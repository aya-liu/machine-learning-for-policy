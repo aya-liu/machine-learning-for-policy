{
 "cells": [
  {
   "cell_type": "markdown",
   "metadata": {},
   "source": [
    "# Predicting Education Project Funding Status\n",
    " \n",
    "**Assignment 3: Application of the Improved ML Pipeline**\n",
    "    \n",
    "Aya Liu  \n",
    "04/28/2019"
   ]
  },
  {
   "cell_type": "markdown",
   "metadata": {},
   "source": [
    "Pipeline\n",
    "---\n",
    "   - Data preparation  \n",
    "   - Exploratory analysis  \n",
    "   - Pre-processing  \n",
    "   - Feature generation  \n",
    "   - Model building  \n",
    "   - Validation  \n",
    " "
   ]
  },
  {
   "cell_type": "code",
   "execution_count": 1,
   "metadata": {},
   "outputs": [],
   "source": [
    "%load_ext autoreload\n",
    "%autoreload 2\n",
    "import numpy as np\n",
    "import pandas as pd\n",
    "import graphviz\n",
    "import warnings\n",
    "import pipeline as pp\n",
    "\n",
    "warnings.filterwarnings('ignore')\n",
    "pd.options.display.max_columns = 999"
   ]
  },
  {
   "cell_type": "markdown",
   "metadata": {},
   "source": [
    "### I. Data Preparation"
   ]
  },
  {
   "cell_type": "code",
   "execution_count": 2,
   "metadata": {
    "scrolled": true
   },
   "outputs": [],
   "source": [
    "# Read data\n",
    "file = 'data/projects_2012_2013.csv'\n",
    "coltypes = {'school_ncesid': str}\n",
    "parse_dates = ['date_posted', 'datefullyfunded']\n",
    "df = pp.read_data(file, coltypes=coltypes, parse_dates=parse_dates)"
   ]
  },
  {
   "cell_type": "code",
   "execution_count": 3,
   "metadata": {},
   "outputs": [],
   "source": [
    "# Calculate the number of days it takes for a project to get fully funded\n",
    "df['time_till_funded'] = (df.datefullyfunded - df.date_posted).apply(lambda x: x.days)\n",
    "\n",
    "# Create target variable to identify projects fully funded within 60 days of their posting dates\n",
    "df['funded_wi_60d'] = np.where(df.time_till_funded <= 60, 1, 0)"
   ]
  },
  {
   "cell_type": "code",
   "execution_count": 4,
   "metadata": {
    "scrolled": true
   },
   "outputs": [
    {
     "data": {
      "text/html": [
       "<div>\n",
       "<style scoped>\n",
       "    .dataframe tbody tr th:only-of-type {\n",
       "        vertical-align: middle;\n",
       "    }\n",
       "\n",
       "    .dataframe tbody tr th {\n",
       "        vertical-align: top;\n",
       "    }\n",
       "\n",
       "    .dataframe thead th {\n",
       "        text-align: right;\n",
       "    }\n",
       "</style>\n",
       "<table border=\"1\" class=\"dataframe\">\n",
       "  <thead>\n",
       "    <tr style=\"text-align: right;\">\n",
       "      <th></th>\n",
       "      <th>projectid</th>\n",
       "      <th>teacher_acctid</th>\n",
       "      <th>schoolid</th>\n",
       "      <th>school_ncesid</th>\n",
       "      <th>school_latitude</th>\n",
       "      <th>school_longitude</th>\n",
       "      <th>school_city</th>\n",
       "      <th>school_state</th>\n",
       "      <th>school_metro</th>\n",
       "      <th>school_district</th>\n",
       "      <th>school_county</th>\n",
       "      <th>school_charter</th>\n",
       "      <th>school_magnet</th>\n",
       "      <th>teacher_prefix</th>\n",
       "      <th>primary_focus_subject</th>\n",
       "      <th>primary_focus_area</th>\n",
       "      <th>secondary_focus_subject</th>\n",
       "      <th>secondary_focus_area</th>\n",
       "      <th>resource_type</th>\n",
       "      <th>poverty_level</th>\n",
       "      <th>grade_level</th>\n",
       "      <th>total_price_including_optional_support</th>\n",
       "      <th>students_reached</th>\n",
       "      <th>eligible_double_your_impact_match</th>\n",
       "      <th>date_posted</th>\n",
       "      <th>datefullyfunded</th>\n",
       "      <th>time_till_funded</th>\n",
       "      <th>funded_wi_60d</th>\n",
       "    </tr>\n",
       "  </thead>\n",
       "  <tbody>\n",
       "    <tr>\n",
       "      <th>0</th>\n",
       "      <td>00001ccc0e81598c4bd86bacb94d7acb</td>\n",
       "      <td>96963218e74e10c3764a5cfb153e6fea</td>\n",
       "      <td>9f3f9f2c2da7edda5648ccd10554ed8c</td>\n",
       "      <td>1.70993E+11</td>\n",
       "      <td>41.807654</td>\n",
       "      <td>-87.673257</td>\n",
       "      <td>Chicago</td>\n",
       "      <td>IL</td>\n",
       "      <td>urban</td>\n",
       "      <td>Pershing Elem Network</td>\n",
       "      <td>Cook</td>\n",
       "      <td>f</td>\n",
       "      <td>f</td>\n",
       "      <td>Mrs.</td>\n",
       "      <td>Mathematics</td>\n",
       "      <td>Math &amp; Science</td>\n",
       "      <td>Visual Arts</td>\n",
       "      <td>Music &amp; The Arts</td>\n",
       "      <td>Supplies</td>\n",
       "      <td>highest poverty</td>\n",
       "      <td>Grades PreK-2</td>\n",
       "      <td>1498.61</td>\n",
       "      <td>31.0</td>\n",
       "      <td>f</td>\n",
       "      <td>2013-04-14</td>\n",
       "      <td>2013-05-02</td>\n",
       "      <td>18</td>\n",
       "      <td>1</td>\n",
       "    </tr>\n",
       "    <tr>\n",
       "      <th>1</th>\n",
       "      <td>0000fa3aa8f6649abab23615b546016d</td>\n",
       "      <td>2a578595fe351e7fce057e048c409b18</td>\n",
       "      <td>3432ed3d4466fac2f2ead83ab354e333</td>\n",
       "      <td>64098006751</td>\n",
       "      <td>34.296596</td>\n",
       "      <td>-119.296596</td>\n",
       "      <td>Ventura</td>\n",
       "      <td>CA</td>\n",
       "      <td>urban</td>\n",
       "      <td>Ventura Unif School District</td>\n",
       "      <td>Ventura</td>\n",
       "      <td>f</td>\n",
       "      <td>f</td>\n",
       "      <td>Mrs.</td>\n",
       "      <td>Civics &amp; Government</td>\n",
       "      <td>History &amp; Civics</td>\n",
       "      <td>Literature &amp; Writing</td>\n",
       "      <td>Literacy &amp; Language</td>\n",
       "      <td>Books</td>\n",
       "      <td>highest poverty</td>\n",
       "      <td>Grades 3-5</td>\n",
       "      <td>282.47</td>\n",
       "      <td>28.0</td>\n",
       "      <td>t</td>\n",
       "      <td>2012-04-07</td>\n",
       "      <td>2012-04-18</td>\n",
       "      <td>11</td>\n",
       "      <td>1</td>\n",
       "    </tr>\n",
       "    <tr>\n",
       "      <th>2</th>\n",
       "      <td>000134f07d4b30140d63262c871748ff</td>\n",
       "      <td>26bd60377bdbffb53a644a16c5308e82</td>\n",
       "      <td>dc8dcb501c3b2bb0b10e9c6ee2cd8afd</td>\n",
       "      <td>62271003143</td>\n",
       "      <td>34.078625</td>\n",
       "      <td>-118.257834</td>\n",
       "      <td>Los Angeles</td>\n",
       "      <td>CA</td>\n",
       "      <td>urban</td>\n",
       "      <td>Los Angeles Unif Sch Dist</td>\n",
       "      <td>Los Angeles</td>\n",
       "      <td>f</td>\n",
       "      <td>f</td>\n",
       "      <td>Ms.</td>\n",
       "      <td>Literacy</td>\n",
       "      <td>Literacy &amp; Language</td>\n",
       "      <td>Social Sciences</td>\n",
       "      <td>History &amp; Civics</td>\n",
       "      <td>Technology</td>\n",
       "      <td>high poverty</td>\n",
       "      <td>Grades 3-5</td>\n",
       "      <td>1012.38</td>\n",
       "      <td>56.0</td>\n",
       "      <td>f</td>\n",
       "      <td>2012-01-30</td>\n",
       "      <td>2012-04-15</td>\n",
       "      <td>76</td>\n",
       "      <td>0</td>\n",
       "    </tr>\n",
       "    <tr>\n",
       "      <th>3</th>\n",
       "      <td>0001f2d0b3827bba67cdbeaa248b832d</td>\n",
       "      <td>15d900805d9d716c051c671827109f45</td>\n",
       "      <td>8bea7e8c6e4279fca6276128db89292e</td>\n",
       "      <td>3.60009E+11</td>\n",
       "      <td>40.687286</td>\n",
       "      <td>-73.988217</td>\n",
       "      <td>Brooklyn</td>\n",
       "      <td>NY</td>\n",
       "      <td>urban</td>\n",
       "      <td>New York City Dept Of Ed</td>\n",
       "      <td>Kings (Brooklyn)</td>\n",
       "      <td>f</td>\n",
       "      <td>t</td>\n",
       "      <td>Ms.</td>\n",
       "      <td>Literacy</td>\n",
       "      <td>Literacy &amp; Language</td>\n",
       "      <td>NaN</td>\n",
       "      <td>NaN</td>\n",
       "      <td>Books</td>\n",
       "      <td>high poverty</td>\n",
       "      <td>Grades PreK-2</td>\n",
       "      <td>175.33</td>\n",
       "      <td>23.0</td>\n",
       "      <td>f</td>\n",
       "      <td>2012-10-11</td>\n",
       "      <td>2012-12-05</td>\n",
       "      <td>55</td>\n",
       "      <td>1</td>\n",
       "    </tr>\n",
       "    <tr>\n",
       "      <th>4</th>\n",
       "      <td>0004536db996ba697ca72c9e058bfe69</td>\n",
       "      <td>400f8b82bb0143f6a40b217a517fe311</td>\n",
       "      <td>fbdefab6fe41e12c55886c610c110753</td>\n",
       "      <td>3.60687E+11</td>\n",
       "      <td>40.793018</td>\n",
       "      <td>-73.205635</td>\n",
       "      <td>Central Islip</td>\n",
       "      <td>NY</td>\n",
       "      <td>suburban</td>\n",
       "      <td>Central Islip Union Free SD</td>\n",
       "      <td>Suffolk</td>\n",
       "      <td>f</td>\n",
       "      <td>f</td>\n",
       "      <td>Mrs.</td>\n",
       "      <td>Literacy</td>\n",
       "      <td>Literacy &amp; Language</td>\n",
       "      <td>Literature &amp; Writing</td>\n",
       "      <td>Literacy &amp; Language</td>\n",
       "      <td>Technology</td>\n",
       "      <td>high poverty</td>\n",
       "      <td>Grades PreK-2</td>\n",
       "      <td>3591.11</td>\n",
       "      <td>150.0</td>\n",
       "      <td>f</td>\n",
       "      <td>2013-01-08</td>\n",
       "      <td>2013-03-25</td>\n",
       "      <td>76</td>\n",
       "      <td>0</td>\n",
       "    </tr>\n",
       "  </tbody>\n",
       "</table>\n",
       "</div>"
      ],
      "text/plain": [
       "                          projectid                    teacher_acctid  \\\n",
       "0  00001ccc0e81598c4bd86bacb94d7acb  96963218e74e10c3764a5cfb153e6fea   \n",
       "1  0000fa3aa8f6649abab23615b546016d  2a578595fe351e7fce057e048c409b18   \n",
       "2  000134f07d4b30140d63262c871748ff  26bd60377bdbffb53a644a16c5308e82   \n",
       "3  0001f2d0b3827bba67cdbeaa248b832d  15d900805d9d716c051c671827109f45   \n",
       "4  0004536db996ba697ca72c9e058bfe69  400f8b82bb0143f6a40b217a517fe311   \n",
       "\n",
       "                           schoolid school_ncesid  school_latitude  \\\n",
       "0  9f3f9f2c2da7edda5648ccd10554ed8c   1.70993E+11        41.807654   \n",
       "1  3432ed3d4466fac2f2ead83ab354e333   64098006751        34.296596   \n",
       "2  dc8dcb501c3b2bb0b10e9c6ee2cd8afd   62271003143        34.078625   \n",
       "3  8bea7e8c6e4279fca6276128db89292e   3.60009E+11        40.687286   \n",
       "4  fbdefab6fe41e12c55886c610c110753   3.60687E+11        40.793018   \n",
       "\n",
       "   school_longitude    school_city school_state school_metro  \\\n",
       "0        -87.673257        Chicago           IL        urban   \n",
       "1       -119.296596        Ventura           CA        urban   \n",
       "2       -118.257834    Los Angeles           CA        urban   \n",
       "3        -73.988217       Brooklyn           NY        urban   \n",
       "4        -73.205635  Central Islip           NY     suburban   \n",
       "\n",
       "                school_district     school_county school_charter  \\\n",
       "0         Pershing Elem Network              Cook              f   \n",
       "1  Ventura Unif School District           Ventura              f   \n",
       "2     Los Angeles Unif Sch Dist       Los Angeles              f   \n",
       "3      New York City Dept Of Ed  Kings (Brooklyn)              f   \n",
       "4   Central Islip Union Free SD           Suffolk              f   \n",
       "\n",
       "  school_magnet teacher_prefix primary_focus_subject   primary_focus_area  \\\n",
       "0             f           Mrs.           Mathematics       Math & Science   \n",
       "1             f           Mrs.   Civics & Government     History & Civics   \n",
       "2             f            Ms.              Literacy  Literacy & Language   \n",
       "3             t            Ms.              Literacy  Literacy & Language   \n",
       "4             f           Mrs.              Literacy  Literacy & Language   \n",
       "\n",
       "  secondary_focus_subject secondary_focus_area resource_type    poverty_level  \\\n",
       "0             Visual Arts     Music & The Arts      Supplies  highest poverty   \n",
       "1    Literature & Writing  Literacy & Language         Books  highest poverty   \n",
       "2         Social Sciences     History & Civics    Technology     high poverty   \n",
       "3                     NaN                  NaN         Books     high poverty   \n",
       "4    Literature & Writing  Literacy & Language    Technology     high poverty   \n",
       "\n",
       "     grade_level  total_price_including_optional_support  students_reached  \\\n",
       "0  Grades PreK-2                                 1498.61              31.0   \n",
       "1     Grades 3-5                                  282.47              28.0   \n",
       "2     Grades 3-5                                 1012.38              56.0   \n",
       "3  Grades PreK-2                                  175.33              23.0   \n",
       "4  Grades PreK-2                                 3591.11             150.0   \n",
       "\n",
       "  eligible_double_your_impact_match date_posted datefullyfunded  \\\n",
       "0                                 f  2013-04-14      2013-05-02   \n",
       "1                                 t  2012-04-07      2012-04-18   \n",
       "2                                 f  2012-01-30      2012-04-15   \n",
       "3                                 f  2012-10-11      2012-12-05   \n",
       "4                                 f  2013-01-08      2013-03-25   \n",
       "\n",
       "   time_till_funded  funded_wi_60d  \n",
       "0                18              1  \n",
       "1                11              1  \n",
       "2                76              0  \n",
       "3                55              1  \n",
       "4                76              0  "
      ]
     },
     "execution_count": 4,
     "metadata": {},
     "output_type": "execute_result"
    }
   ],
   "source": [
    "df.head()"
   ]
  },
  {
   "cell_type": "code",
   "execution_count": 5,
   "metadata": {
    "scrolled": true
   },
   "outputs": [
    {
     "data": {
      "text/plain": [
       "projectid                                         object\n",
       "teacher_acctid                                    object\n",
       "schoolid                                          object\n",
       "school_ncesid                                     object\n",
       "school_latitude                                  float64\n",
       "school_longitude                                 float64\n",
       "school_city                                       object\n",
       "school_state                                      object\n",
       "school_metro                                      object\n",
       "school_district                                   object\n",
       "school_county                                     object\n",
       "school_charter                                    object\n",
       "school_magnet                                     object\n",
       "teacher_prefix                                    object\n",
       "primary_focus_subject                             object\n",
       "primary_focus_area                                object\n",
       "secondary_focus_subject                           object\n",
       "secondary_focus_area                              object\n",
       "resource_type                                     object\n",
       "poverty_level                                     object\n",
       "grade_level                                       object\n",
       "total_price_including_optional_support           float64\n",
       "students_reached                                 float64\n",
       "eligible_double_your_impact_match                 object\n",
       "date_posted                               datetime64[ns]\n",
       "datefullyfunded                           datetime64[ns]\n",
       "time_till_funded                                   int64\n",
       "funded_wi_60d                                      int64\n",
       "dtype: object"
      ]
     },
     "execution_count": 5,
     "metadata": {},
     "output_type": "execute_result"
    }
   ],
   "source": [
    "df.dtypes"
   ]
  },
  {
   "cell_type": "markdown",
   "metadata": {},
   "source": [
    "### II. Exploratory Analysis"
   ]
  },
  {
   "cell_type": "code",
   "execution_count": 6,
   "metadata": {
    "scrolled": true
   },
   "outputs": [
    {
     "name": "stdout",
     "output_type": "stream",
     "text": [
      "Distribution of all numerical variables\n"
     ]
    },
    {
     "data": {
      "text/html": [
       "<div>\n",
       "<style scoped>\n",
       "    .dataframe tbody tr th:only-of-type {\n",
       "        vertical-align: middle;\n",
       "    }\n",
       "\n",
       "    .dataframe tbody tr th {\n",
       "        vertical-align: top;\n",
       "    }\n",
       "\n",
       "    .dataframe thead th {\n",
       "        text-align: right;\n",
       "    }\n",
       "</style>\n",
       "<table border=\"1\" class=\"dataframe\">\n",
       "  <thead>\n",
       "    <tr style=\"text-align: right;\">\n",
       "      <th></th>\n",
       "      <th>total_price_including_optional_support</th>\n",
       "      <th>students_reached</th>\n",
       "    </tr>\n",
       "  </thead>\n",
       "  <tbody>\n",
       "    <tr>\n",
       "      <th>count</th>\n",
       "      <td>124976.000000</td>\n",
       "      <td>124917.000000</td>\n",
       "    </tr>\n",
       "    <tr>\n",
       "      <th>mean</th>\n",
       "      <td>654.011811</td>\n",
       "      <td>95.445760</td>\n",
       "    </tr>\n",
       "    <tr>\n",
       "      <th>std</th>\n",
       "      <td>1098.015854</td>\n",
       "      <td>163.481912</td>\n",
       "    </tr>\n",
       "    <tr>\n",
       "      <th>min</th>\n",
       "      <td>92.000000</td>\n",
       "      <td>1.000000</td>\n",
       "    </tr>\n",
       "    <tr>\n",
       "      <th>25%</th>\n",
       "      <td>345.810000</td>\n",
       "      <td>23.000000</td>\n",
       "    </tr>\n",
       "    <tr>\n",
       "      <th>50%</th>\n",
       "      <td>510.500000</td>\n",
       "      <td>30.000000</td>\n",
       "    </tr>\n",
       "    <tr>\n",
       "      <th>75%</th>\n",
       "      <td>752.960000</td>\n",
       "      <td>100.000000</td>\n",
       "    </tr>\n",
       "    <tr>\n",
       "      <th>max</th>\n",
       "      <td>164382.840000</td>\n",
       "      <td>12143.000000</td>\n",
       "    </tr>\n",
       "  </tbody>\n",
       "</table>\n",
       "</div>"
      ],
      "text/plain": [
       "       total_price_including_optional_support  students_reached\n",
       "count                           124976.000000     124917.000000\n",
       "mean                               654.011811         95.445760\n",
       "std                               1098.015854        163.481912\n",
       "min                                 92.000000          1.000000\n",
       "25%                                345.810000         23.000000\n",
       "50%                                510.500000         30.000000\n",
       "75%                                752.960000        100.000000\n",
       "max                             164382.840000      12143.000000"
      ]
     },
     "metadata": {},
     "output_type": "display_data"
    },
    {
     "name": "stdout",
     "output_type": "stream",
     "text": [
      "\n",
      "########\n",
      "\n",
      "Variable: total_price_including_optional_support\n",
      "---\n",
      "Distribution of total_price_including_optional_support grouped by funded_wi_60d\n"
     ]
    },
    {
     "data": {
      "text/html": [
       "<div>\n",
       "<style scoped>\n",
       "    .dataframe tbody tr th:only-of-type {\n",
       "        vertical-align: middle;\n",
       "    }\n",
       "\n",
       "    .dataframe tbody tr th {\n",
       "        vertical-align: top;\n",
       "    }\n",
       "\n",
       "    .dataframe thead th {\n",
       "        text-align: right;\n",
       "    }\n",
       "</style>\n",
       "<table border=\"1\" class=\"dataframe\">\n",
       "  <thead>\n",
       "    <tr style=\"text-align: right;\">\n",
       "      <th></th>\n",
       "      <th>count</th>\n",
       "      <th>mean</th>\n",
       "      <th>std</th>\n",
       "      <th>min</th>\n",
       "      <th>25%</th>\n",
       "      <th>50%</th>\n",
       "      <th>75%</th>\n",
       "      <th>max</th>\n",
       "    </tr>\n",
       "    <tr>\n",
       "      <th>funded_wi_60d</th>\n",
       "      <th></th>\n",
       "      <th></th>\n",
       "      <th></th>\n",
       "      <th></th>\n",
       "      <th></th>\n",
       "      <th></th>\n",
       "      <th></th>\n",
       "      <th></th>\n",
       "    </tr>\n",
       "  </thead>\n",
       "  <tbody>\n",
       "    <tr>\n",
       "      <th>0</th>\n",
       "      <td>36010.0</td>\n",
       "      <td>801.572199</td>\n",
       "      <td>1217.907204</td>\n",
       "      <td>122.61</td>\n",
       "      <td>452.05</td>\n",
       "      <td>589.790</td>\n",
       "      <td>899.9225</td>\n",
       "      <td>69670.89</td>\n",
       "    </tr>\n",
       "    <tr>\n",
       "      <th>1</th>\n",
       "      <td>88966.0</td>\n",
       "      <td>594.285067</td>\n",
       "      <td>1039.657542</td>\n",
       "      <td>92.00</td>\n",
       "      <td>306.71</td>\n",
       "      <td>475.475</td>\n",
       "      <td>671.9900</td>\n",
       "      <td>164382.84</td>\n",
       "    </tr>\n",
       "  </tbody>\n",
       "</table>\n",
       "</div>"
      ],
      "text/plain": [
       "                 count        mean          std     min     25%      50%  \\\n",
       "funded_wi_60d                                                              \n",
       "0              36010.0  801.572199  1217.907204  122.61  452.05  589.790   \n",
       "1              88966.0  594.285067  1039.657542   92.00  306.71  475.475   \n",
       "\n",
       "                    75%        max  \n",
       "funded_wi_60d                       \n",
       "0              899.9225   69670.89  \n",
       "1              671.9900  164382.84  "
      ]
     },
     "metadata": {},
     "output_type": "display_data"
    },
    {
     "name": "stdout",
     "output_type": "stream",
     "text": [
      "\n"
     ]
    },
    {
     "data": {
      "image/png": "[encoded data removed]",
      "text/plain": [
       "<Figure size 432x288 with 2 Axes>"
      ]
     },
     "metadata": {
      "needs_background": "light"
     },
     "output_type": "display_data"
    },
    {
     "name": "stdout",
     "output_type": "stream",
     "text": [
      "Upper outliers: % obs having total_price_including_optional_support > 1571.73125\n",
      "\tfunded_wi_60d = 0: 0.06\n",
      "\tfunded_wi_60d = 1: 0.03\n",
      "\n",
      "Lower outliers: % obs having total_price_including_optional_support < -241.2100000000001\n",
      "\tfunded_wi_60d = 0:: 0.00\n",
      "\tfunded_wi_60d = 1:: 0.00\n",
      "\n",
      "########\n",
      "\n",
      "Variable: students_reached\n",
      "---\n",
      "Distribution of students_reached grouped by funded_wi_60d\n"
     ]
    },
    {
     "data": {
      "text/html": [
       "<div>\n",
       "<style scoped>\n",
       "    .dataframe tbody tr th:only-of-type {\n",
       "        vertical-align: middle;\n",
       "    }\n",
       "\n",
       "    .dataframe tbody tr th {\n",
       "        vertical-align: top;\n",
       "    }\n",
       "\n",
       "    .dataframe thead th {\n",
       "        text-align: right;\n",
       "    }\n",
       "</style>\n",
       "<table border=\"1\" class=\"dataframe\">\n",
       "  <thead>\n",
       "    <tr style=\"text-align: right;\">\n",
       "      <th></th>\n",
       "      <th>count</th>\n",
       "      <th>mean</th>\n",
       "      <th>std</th>\n",
       "      <th>min</th>\n",
       "      <th>25%</th>\n",
       "      <th>50%</th>\n",
       "      <th>75%</th>\n",
       "      <th>max</th>\n",
       "    </tr>\n",
       "    <tr>\n",
       "      <th>funded_wi_60d</th>\n",
       "      <th></th>\n",
       "      <th></th>\n",
       "      <th></th>\n",
       "      <th></th>\n",
       "      <th></th>\n",
       "      <th></th>\n",
       "      <th></th>\n",
       "      <th></th>\n",
       "    </tr>\n",
       "  </thead>\n",
       "  <tbody>\n",
       "    <tr>\n",
       "      <th>0</th>\n",
       "      <td>35990.0</td>\n",
       "      <td>98.604640</td>\n",
       "      <td>160.891321</td>\n",
       "      <td>1.0</td>\n",
       "      <td>23.0</td>\n",
       "      <td>31.0</td>\n",
       "      <td>100.0</td>\n",
       "      <td>999.0</td>\n",
       "    </tr>\n",
       "    <tr>\n",
       "      <th>1</th>\n",
       "      <td>88927.0</td>\n",
       "      <td>94.167317</td>\n",
       "      <td>164.502419</td>\n",
       "      <td>1.0</td>\n",
       "      <td>23.0</td>\n",
       "      <td>30.0</td>\n",
       "      <td>100.0</td>\n",
       "      <td>12143.0</td>\n",
       "    </tr>\n",
       "  </tbody>\n",
       "</table>\n",
       "</div>"
      ],
      "text/plain": [
       "                 count       mean         std  min   25%   50%    75%      max\n",
       "funded_wi_60d                                                                 \n",
       "0              35990.0  98.604640  160.891321  1.0  23.0  31.0  100.0    999.0\n",
       "1              88927.0  94.167317  164.502419  1.0  23.0  30.0  100.0  12143.0"
      ]
     },
     "metadata": {},
     "output_type": "display_data"
    },
    {
     "name": "stdout",
     "output_type": "stream",
     "text": [
      "\n"
     ]
    },
    {
     "data": {
      "image/png": "[encoded data removed]",
      "text/plain": [
       "<Figure size 432x288 with 2 Axes>"
      ]
     },
     "metadata": {
      "needs_background": "light"
     },
     "output_type": "display_data"
    },
    {
     "name": "stdout",
     "output_type": "stream",
     "text": [
      "Upper outliers: % obs having students_reached > 215.5\n",
      "\tfunded_wi_60d = 0: 0.10\n",
      "\tfunded_wi_60d = 1: 0.09\n",
      "\n",
      "Lower outliers: % obs having students_reached < -92.5\n",
      "\tfunded_wi_60d = 0:: 0.00\n",
      "\tfunded_wi_60d = 1:: 0.00\n",
      "\n",
      "########\n",
      "\n",
      "Number of observations by school_metro\n"
     ]
    },
    {
     "data": {
      "image/png": "[encoded data removed]",
      "text/plain": [
       "<Figure size 432x288 with 1 Axes>"
      ]
     },
     "metadata": {
      "needs_background": "light"
     },
     "output_type": "display_data"
    },
    {
     "data": {
      "image/png": "[encoded data removed]",
      "text/plain": [
       "<Figure size 432x288 with 1 Axes>"
      ]
     },
     "metadata": {
      "needs_background": "light"
     },
     "output_type": "display_data"
    },
    {
     "name": "stdout",
     "output_type": "stream",
     "text": [
      "\n",
      "########\n",
      "\n",
      "Number of observations by school_charter\n"
     ]
    },
    {
     "data": {
      "image/png": "[encoded data removed]",
      "text/plain": [
       "<Figure size 432x288 with 1 Axes>"
      ]
     },
     "metadata": {
      "needs_background": "light"
     },
     "output_type": "display_data"
    },
    {
     "data": {
      "image/png": "[encoded data removed]",
      "text/plain": [
       "<Figure size 432x288 with 1 Axes>"
      ]
     },
     "metadata": {
      "needs_background": "light"
     },
     "output_type": "display_data"
    },
    {
     "name": "stdout",
     "output_type": "stream",
     "text": [
      "\n",
      "########\n",
      "\n",
      "Number of observations by school_magnet\n"
     ]
    },
    {
     "data": {
      "image/png": "[encoded data removed]",
      "text/plain": [
       "<Figure size 432x288 with 1 Axes>"
      ]
     },
     "metadata": {
      "needs_background": "light"
     },
     "output_type": "display_data"
    },
    {
     "data": {
      "image/png": "[encoded data removed]",
      "text/plain": [
       "<Figure size 432x288 with 1 Axes>"
      ]
     },
     "metadata": {
      "needs_background": "light"
     },
     "output_type": "display_data"
    },
    {
     "name": "stdout",
     "output_type": "stream",
     "text": [
      "\n",
      "########\n",
      "\n",
      "Number of observations by primary_focus_area\n"
     ]
    },
    {
     "data": {
      "image/png": "[encoded data removed]",
      "text/plain": [
       "<Figure size 432x288 with 1 Axes>"
      ]
     },
     "metadata": {
      "needs_background": "light"
     },
     "output_type": "display_data"
    },
    {
     "data": {
      "image/png": "[encoded data removed]",
      "text/plain": [
       "<Figure size 432x288 with 1 Axes>"
      ]
     },
     "metadata": {
      "needs_background": "light"
     },
     "output_type": "display_data"
    },
    {
     "name": "stdout",
     "output_type": "stream",
     "text": [
      "\n",
      "########\n",
      "\n",
      "Number of observations by secondary_focus_area\n"
     ]
    },
    {
     "data": {
      "image/png": "[encoded data removed]",
      "text/plain": [
       "<Figure size 432x288 with 1 Axes>"
      ]
     },
     "metadata": {
      "needs_background": "light"
     },
     "output_type": "display_data"
    },
    {
     "data": {
      "image/png": "[encoded data removed]",
      "text/plain": [
       "<Figure size 432x288 with 1 Axes>"
      ]
     },
     "metadata": {
      "needs_background": "light"
     },
     "output_type": "display_data"
    },
    {
     "name": "stdout",
     "output_type": "stream",
     "text": [
      "\n",
      "########\n",
      "\n",
      "Number of observations by resource_type\n"
     ]
    },
    {
     "data": {
      "image/png": "[encoded data removed]",
      "text/plain": [
       "<Figure size 432x288 with 1 Axes>"
      ]
     },
     "metadata": {
      "needs_background": "light"
     },
     "output_type": "display_data"
    },
    {
     "data": {
      "image/png": "[encoded data removed]",
      "text/plain": [
       "<Figure size 432x288 with 1 Axes>"
      ]
     },
     "metadata": {
      "needs_background": "light"
     },
     "output_type": "display_data"
    },
    {
     "name": "stdout",
     "output_type": "stream",
     "text": [
      "\n",
      "########\n",
      "\n",
      "Number of observations by poverty_level\n"
     ]
    },
    {
     "data": {
      "image/png": "[encoded data removed]",
      "text/plain": [
       "<Figure size 432x288 with 1 Axes>"
      ]
     },
     "metadata": {
      "needs_background": "light"
     },
     "output_type": "display_data"
    },
    {
     "data": {
      "image/png": "[encoded data removed]",
      "text/plain": [
       "<Figure size 432x288 with 1 Axes>"
      ]
     },
     "metadata": {
      "needs_background": "light"
     },
     "output_type": "display_data"
    },
    {
     "name": "stdout",
     "output_type": "stream",
     "text": [
      "\n",
      "########\n",
      "\n",
      "Number of observations by grade_level\n"
     ]
    },
    {
     "data": {
      "image/png": "[encoded data removed]",
      "text/plain": [
       "<Figure size 432x288 with 1 Axes>"
      ]
     },
     "metadata": {
      "needs_background": "light"
     },
     "output_type": "display_data"
    },
    {
     "data": {
      "image/png": "[encoded data removed]",
      "text/plain": [
       "<Figure size 432x288 with 1 Axes>"
      ]
     },
     "metadata": {
      "needs_background": "light"
     },
     "output_type": "display_data"
    },
    {
     "name": "stdout",
     "output_type": "stream",
     "text": [
      "\n",
      "########\n",
      "\n",
      "Number of observations by eligible_double_your_impact_match\n"
     ]
    },
    {
     "data": {
      "image/png": "[encoded data removed]",
      "text/plain": [
       "<Figure size 432x288 with 1 Axes>"
      ]
     },
     "metadata": {
      "needs_background": "light"
     },
     "output_type": "display_data"
    },
    {
     "data": {
      "image/png": "[encoded data removed]",
      "text/plain": [
       "<Figure size 432x288 with 1 Axes>"
      ]
     },
     "metadata": {
      "needs_background": "light"
     },
     "output_type": "display_data"
    },
    {
     "name": "stdout",
     "output_type": "stream",
     "text": [
      "Number and percentage of missing data in each column:\n",
      "\n"
     ]
    },
    {
     "data": {
      "text/html": [
       "<div>\n",
       "<style scoped>\n",
       "    .dataframe tbody tr th:only-of-type {\n",
       "        vertical-align: middle;\n",
       "    }\n",
       "\n",
       "    .dataframe tbody tr th {\n",
       "        vertical-align: top;\n",
       "    }\n",
       "\n",
       "    .dataframe thead th {\n",
       "        text-align: right;\n",
       "    }\n",
       "</style>\n",
       "<table border=\"1\" class=\"dataframe\">\n",
       "  <thead>\n",
       "    <tr style=\"text-align: right;\">\n",
       "      <th></th>\n",
       "      <th>num_NA</th>\n",
       "      <th>perc_NA</th>\n",
       "    </tr>\n",
       "  </thead>\n",
       "  <tbody>\n",
       "    <tr>\n",
       "      <th>school_ncesid</th>\n",
       "      <td>9233</td>\n",
       "      <td>0.073878</td>\n",
       "    </tr>\n",
       "    <tr>\n",
       "      <th>school_metro</th>\n",
       "      <td>15224</td>\n",
       "      <td>0.121815</td>\n",
       "    </tr>\n",
       "    <tr>\n",
       "      <th>school_district</th>\n",
       "      <td>172</td>\n",
       "      <td>0.001376</td>\n",
       "    </tr>\n",
       "    <tr>\n",
       "      <th>primary_focus_subject</th>\n",
       "      <td>15</td>\n",
       "      <td>0.000120</td>\n",
       "    </tr>\n",
       "    <tr>\n",
       "      <th>primary_focus_area</th>\n",
       "      <td>15</td>\n",
       "      <td>0.000120</td>\n",
       "    </tr>\n",
       "    <tr>\n",
       "      <th>secondary_focus_subject</th>\n",
       "      <td>40556</td>\n",
       "      <td>0.324510</td>\n",
       "    </tr>\n",
       "    <tr>\n",
       "      <th>secondary_focus_area</th>\n",
       "      <td>40556</td>\n",
       "      <td>0.324510</td>\n",
       "    </tr>\n",
       "    <tr>\n",
       "      <th>resource_type</th>\n",
       "      <td>17</td>\n",
       "      <td>0.000136</td>\n",
       "    </tr>\n",
       "    <tr>\n",
       "      <th>grade_level</th>\n",
       "      <td>3</td>\n",
       "      <td>0.000024</td>\n",
       "    </tr>\n",
       "    <tr>\n",
       "      <th>students_reached</th>\n",
       "      <td>59</td>\n",
       "      <td>0.000472</td>\n",
       "    </tr>\n",
       "  </tbody>\n",
       "</table>\n",
       "</div>"
      ],
      "text/plain": [
       "                         num_NA   perc_NA\n",
       "school_ncesid              9233  0.073878\n",
       "school_metro              15224  0.121815\n",
       "school_district             172  0.001376\n",
       "primary_focus_subject        15  0.000120\n",
       "primary_focus_area           15  0.000120\n",
       "secondary_focus_subject   40556  0.324510\n",
       "secondary_focus_area      40556  0.324510\n",
       "resource_type                17  0.000136\n",
       "grade_level                   3  0.000024\n",
       "students_reached             59  0.000472"
      ]
     },
     "metadata": {},
     "output_type": "display_data"
    },
    {
     "data": {
      "image/png": "[encoded data removed]",
      "text/plain": [
       "<Figure size 1800x720 with 2 Axes>"
      ]
     },
     "metadata": {
      "needs_background": "light"
     },
     "output_type": "display_data"
    }
   ],
   "source": [
    "# Set target variable to constant\n",
    "T = 'funded_wi_60d'\n",
    "\n",
    "# Construct lists of variables to explore\n",
    "num_vars = ['total_price_including_optional_support', 'students_reached']\n",
    "cat_vars = ['school_metro', 'school_charter', 'school_magnet', 'primary_focus_area', 'secondary_focus_area', \n",
    "            'resource_type', 'poverty_level', 'grade_level', 'eligible_double_your_impact_match']\n",
    "\n",
    "# Explore selected variables\n",
    "pp.explore_data(T, num_vars, cat_vars, df)"
   ]
  },
  {
   "cell_type": "markdown",
   "metadata": {},
   "source": [
    "### III. Pre-processing\n"
   ]
  },
  {
   "cell_type": "code",
   "execution_count": 7,
   "metadata": {},
   "outputs": [],
   "source": [
    "cols_to_drop = ['school_district', \n",
    "                'primary_focus_subject', \n",
    "                'primary_focus_area', \n",
    "                'resource_type', \n",
    "                'grade_level', \n",
    "                'students_reached']\n",
    "df.dropna(axis=0, subset=cols_to_drop, inplace=True)"
   ]
  },
  {
   "cell_type": "markdown",
   "metadata": {},
   "source": [
    "### IV. Feature Generation"
   ]
  },
  {
   "cell_type": "markdown",
   "metadata": {},
   "source": [
    "Variable to discretize: total price including optional support"
   ]
  },
  {
   "cell_type": "code",
   "execution_count": 8,
   "metadata": {
    "scrolled": true
   },
   "outputs": [
    {
     "data": {
      "image/png": "[encoded data removed]",
      "text/plain": [
       "<Figure size 432x288 with 1 Axes>"
      ]
     },
     "metadata": {
      "needs_background": "light"
     },
     "output_type": "display_data"
    },
    {
     "data": {
      "image/png": "[encoded data removed]",
      "text/plain": [
       "<Figure size 432x288 with 1 Axes>"
      ]
     },
     "metadata": {
      "needs_background": "light"
     },
     "output_type": "display_data"
    },
    {
     "data": {
      "image/png": "[encoded data removed]",
      "text/plain": [
       "<Figure size 432x288 with 1 Axes>"
      ]
     },
     "metadata": {
      "needs_background": "light"
     },
     "output_type": "display_data"
    }
   ],
   "source": [
    "pp.visualize_num_distr('total_price_including_optional_support', T, data=df, bins=list(range(0, 1500, 100)))"
   ]
  },
  {
   "cell_type": "code",
   "execution_count": 9,
   "metadata": {},
   "outputs": [],
   "source": [
    "# Discretize total_price_including_optional_support\n",
    "\n",
    "bins_tp = [0, 300, 600, 900, 1200, float('inf')]\n",
    "labels_tp = ['<300', '300-600', '600-900', '900-1200', '>1200']\n",
    "df['total_price_cat'] = pp.discretize(varname='total_price_including_optional_support', data=df, \n",
    "                                      bins=bins_tp, labels=labels_tp)"
   ]
  },
  {
   "cell_type": "code",
   "execution_count": 10,
   "metadata": {
    "scrolled": true
   },
   "outputs": [
    {
     "data": {
      "text/html": [
       "<div>\n",
       "<style scoped>\n",
       "    .dataframe tbody tr th:only-of-type {\n",
       "        vertical-align: middle;\n",
       "    }\n",
       "\n",
       "    .dataframe tbody tr th {\n",
       "        vertical-align: top;\n",
       "    }\n",
       "\n",
       "    .dataframe thead th {\n",
       "        text-align: right;\n",
       "    }\n",
       "</style>\n",
       "<table border=\"1\" class=\"dataframe\">\n",
       "  <thead>\n",
       "    <tr style=\"text-align: right;\">\n",
       "      <th></th>\n",
       "      <th>projectid</th>\n",
       "      <th>teacher_acctid</th>\n",
       "      <th>schoolid</th>\n",
       "      <th>school_ncesid</th>\n",
       "      <th>school_latitude</th>\n",
       "      <th>school_longitude</th>\n",
       "      <th>school_city</th>\n",
       "      <th>school_state</th>\n",
       "      <th>school_metro</th>\n",
       "      <th>school_district</th>\n",
       "      <th>school_county</th>\n",
       "      <th>teacher_prefix</th>\n",
       "      <th>primary_focus_subject</th>\n",
       "      <th>secondary_focus_subject</th>\n",
       "      <th>total_price_including_optional_support</th>\n",
       "      <th>students_reached</th>\n",
       "      <th>date_posted</th>\n",
       "      <th>datefullyfunded</th>\n",
       "      <th>time_till_funded</th>\n",
       "      <th>funded_wi_60d</th>\n",
       "      <th>school_charter_f</th>\n",
       "      <th>school_charter_t</th>\n",
       "      <th>school_charter_nan</th>\n",
       "      <th>school_magnet_f</th>\n",
       "      <th>school_magnet_t</th>\n",
       "      <th>school_magnet_nan</th>\n",
       "      <th>primary_focus_area_Applied Learning</th>\n",
       "      <th>primary_focus_area_Health &amp; Sports</th>\n",
       "      <th>primary_focus_area_History &amp; Civics</th>\n",
       "      <th>primary_focus_area_Literacy &amp; Language</th>\n",
       "      <th>primary_focus_area_Math &amp; Science</th>\n",
       "      <th>primary_focus_area_Music &amp; The Arts</th>\n",
       "      <th>primary_focus_area_Special Needs</th>\n",
       "      <th>primary_focus_area_nan</th>\n",
       "      <th>resource_type_Books</th>\n",
       "      <th>resource_type_Other</th>\n",
       "      <th>resource_type_Supplies</th>\n",
       "      <th>resource_type_Technology</th>\n",
       "      <th>resource_type_Trips</th>\n",
       "      <th>resource_type_Visitors</th>\n",
       "      <th>resource_type_nan</th>\n",
       "      <th>secondary_focus_area_Applied Learning</th>\n",
       "      <th>secondary_focus_area_Health &amp; Sports</th>\n",
       "      <th>secondary_focus_area_History &amp; Civics</th>\n",
       "      <th>secondary_focus_area_Literacy &amp; Language</th>\n",
       "      <th>secondary_focus_area_Math &amp; Science</th>\n",
       "      <th>secondary_focus_area_Music &amp; The Arts</th>\n",
       "      <th>secondary_focus_area_Special Needs</th>\n",
       "      <th>secondary_focus_area_nan</th>\n",
       "      <th>resource_type_Books</th>\n",
       "      <th>resource_type_Other</th>\n",
       "      <th>resource_type_Supplies</th>\n",
       "      <th>resource_type_Technology</th>\n",
       "      <th>resource_type_Trips</th>\n",
       "      <th>resource_type_Visitors</th>\n",
       "      <th>resource_type_nan</th>\n",
       "      <th>poverty_level_high poverty</th>\n",
       "      <th>poverty_level_highest poverty</th>\n",
       "      <th>poverty_level_low poverty</th>\n",
       "      <th>poverty_level_moderate poverty</th>\n",
       "      <th>poverty_level_nan</th>\n",
       "      <th>grade_level_Grades 3-5</th>\n",
       "      <th>grade_level_Grades 6-8</th>\n",
       "      <th>grade_level_Grades 9-12</th>\n",
       "      <th>grade_level_Grades PreK-2</th>\n",
       "      <th>grade_level_nan</th>\n",
       "      <th>eligible_double_your_impact_match_f</th>\n",
       "      <th>eligible_double_your_impact_match_t</th>\n",
       "      <th>eligible_double_your_impact_match_nan</th>\n",
       "      <th>total_price_cat_&lt;300</th>\n",
       "      <th>total_price_cat_300-600</th>\n",
       "      <th>total_price_cat_600-900</th>\n",
       "      <th>total_price_cat_900-1200</th>\n",
       "      <th>total_price_cat_&gt;1200</th>\n",
       "      <th>total_price_cat_nan</th>\n",
       "    </tr>\n",
       "  </thead>\n",
       "  <tbody>\n",
       "    <tr>\n",
       "      <th>0</th>\n",
       "      <td>00001ccc0e81598c4bd86bacb94d7acb</td>\n",
       "      <td>96963218e74e10c3764a5cfb153e6fea</td>\n",
       "      <td>9f3f9f2c2da7edda5648ccd10554ed8c</td>\n",
       "      <td>1.70993E+11</td>\n",
       "      <td>41.807654</td>\n",
       "      <td>-87.673257</td>\n",
       "      <td>Chicago</td>\n",
       "      <td>IL</td>\n",
       "      <td>urban</td>\n",
       "      <td>Pershing Elem Network</td>\n",
       "      <td>Cook</td>\n",
       "      <td>Mrs.</td>\n",
       "      <td>Mathematics</td>\n",
       "      <td>Visual Arts</td>\n",
       "      <td>1498.61</td>\n",
       "      <td>31.0</td>\n",
       "      <td>2013-04-14</td>\n",
       "      <td>2013-05-02</td>\n",
       "      <td>18</td>\n",
       "      <td>1</td>\n",
       "      <td>1</td>\n",
       "      <td>0</td>\n",
       "      <td>0</td>\n",
       "      <td>1</td>\n",
       "      <td>0</td>\n",
       "      <td>0</td>\n",
       "      <td>0</td>\n",
       "      <td>0</td>\n",
       "      <td>0</td>\n",
       "      <td>0</td>\n",
       "      <td>1</td>\n",
       "      <td>0</td>\n",
       "      <td>0</td>\n",
       "      <td>0</td>\n",
       "      <td>0</td>\n",
       "      <td>0</td>\n",
       "      <td>1</td>\n",
       "      <td>0</td>\n",
       "      <td>0</td>\n",
       "      <td>0</td>\n",
       "      <td>0</td>\n",
       "      <td>0</td>\n",
       "      <td>0</td>\n",
       "      <td>0</td>\n",
       "      <td>0</td>\n",
       "      <td>0</td>\n",
       "      <td>1</td>\n",
       "      <td>0</td>\n",
       "      <td>0</td>\n",
       "      <td>0</td>\n",
       "      <td>0</td>\n",
       "      <td>1</td>\n",
       "      <td>0</td>\n",
       "      <td>0</td>\n",
       "      <td>0</td>\n",
       "      <td>0</td>\n",
       "      <td>0</td>\n",
       "      <td>1</td>\n",
       "      <td>0</td>\n",
       "      <td>0</td>\n",
       "      <td>0</td>\n",
       "      <td>0</td>\n",
       "      <td>0</td>\n",
       "      <td>0</td>\n",
       "      <td>1</td>\n",
       "      <td>0</td>\n",
       "      <td>1</td>\n",
       "      <td>0</td>\n",
       "      <td>0</td>\n",
       "      <td>0</td>\n",
       "      <td>0</td>\n",
       "      <td>0</td>\n",
       "      <td>0</td>\n",
       "      <td>1</td>\n",
       "      <td>0</td>\n",
       "    </tr>\n",
       "    <tr>\n",
       "      <th>1</th>\n",
       "      <td>0000fa3aa8f6649abab23615b546016d</td>\n",
       "      <td>2a578595fe351e7fce057e048c409b18</td>\n",
       "      <td>3432ed3d4466fac2f2ead83ab354e333</td>\n",
       "      <td>64098006751</td>\n",
       "      <td>34.296596</td>\n",
       "      <td>-119.296596</td>\n",
       "      <td>Ventura</td>\n",
       "      <td>CA</td>\n",
       "      <td>urban</td>\n",
       "      <td>Ventura Unif School District</td>\n",
       "      <td>Ventura</td>\n",
       "      <td>Mrs.</td>\n",
       "      <td>Civics &amp; Government</td>\n",
       "      <td>Literature &amp; Writing</td>\n",
       "      <td>282.47</td>\n",
       "      <td>28.0</td>\n",
       "      <td>2012-04-07</td>\n",
       "      <td>2012-04-18</td>\n",
       "      <td>11</td>\n",
       "      <td>1</td>\n",
       "      <td>1</td>\n",
       "      <td>0</td>\n",
       "      <td>0</td>\n",
       "      <td>1</td>\n",
       "      <td>0</td>\n",
       "      <td>0</td>\n",
       "      <td>0</td>\n",
       "      <td>0</td>\n",
       "      <td>1</td>\n",
       "      <td>0</td>\n",
       "      <td>0</td>\n",
       "      <td>0</td>\n",
       "      <td>0</td>\n",
       "      <td>0</td>\n",
       "      <td>1</td>\n",
       "      <td>0</td>\n",
       "      <td>0</td>\n",
       "      <td>0</td>\n",
       "      <td>0</td>\n",
       "      <td>0</td>\n",
       "      <td>0</td>\n",
       "      <td>0</td>\n",
       "      <td>0</td>\n",
       "      <td>0</td>\n",
       "      <td>1</td>\n",
       "      <td>0</td>\n",
       "      <td>0</td>\n",
       "      <td>0</td>\n",
       "      <td>0</td>\n",
       "      <td>1</td>\n",
       "      <td>0</td>\n",
       "      <td>0</td>\n",
       "      <td>0</td>\n",
       "      <td>0</td>\n",
       "      <td>0</td>\n",
       "      <td>0</td>\n",
       "      <td>0</td>\n",
       "      <td>1</td>\n",
       "      <td>0</td>\n",
       "      <td>0</td>\n",
       "      <td>0</td>\n",
       "      <td>1</td>\n",
       "      <td>0</td>\n",
       "      <td>0</td>\n",
       "      <td>0</td>\n",
       "      <td>0</td>\n",
       "      <td>0</td>\n",
       "      <td>1</td>\n",
       "      <td>0</td>\n",
       "      <td>1</td>\n",
       "      <td>0</td>\n",
       "      <td>0</td>\n",
       "      <td>0</td>\n",
       "      <td>0</td>\n",
       "      <td>0</td>\n",
       "    </tr>\n",
       "    <tr>\n",
       "      <th>2</th>\n",
       "      <td>000134f07d4b30140d63262c871748ff</td>\n",
       "      <td>26bd60377bdbffb53a644a16c5308e82</td>\n",
       "      <td>dc8dcb501c3b2bb0b10e9c6ee2cd8afd</td>\n",
       "      <td>62271003143</td>\n",
       "      <td>34.078625</td>\n",
       "      <td>-118.257834</td>\n",
       "      <td>Los Angeles</td>\n",
       "      <td>CA</td>\n",
       "      <td>urban</td>\n",
       "      <td>Los Angeles Unif Sch Dist</td>\n",
       "      <td>Los Angeles</td>\n",
       "      <td>Ms.</td>\n",
       "      <td>Literacy</td>\n",
       "      <td>Social Sciences</td>\n",
       "      <td>1012.38</td>\n",
       "      <td>56.0</td>\n",
       "      <td>2012-01-30</td>\n",
       "      <td>2012-04-15</td>\n",
       "      <td>76</td>\n",
       "      <td>0</td>\n",
       "      <td>1</td>\n",
       "      <td>0</td>\n",
       "      <td>0</td>\n",
       "      <td>1</td>\n",
       "      <td>0</td>\n",
       "      <td>0</td>\n",
       "      <td>0</td>\n",
       "      <td>0</td>\n",
       "      <td>0</td>\n",
       "      <td>1</td>\n",
       "      <td>0</td>\n",
       "      <td>0</td>\n",
       "      <td>0</td>\n",
       "      <td>0</td>\n",
       "      <td>0</td>\n",
       "      <td>0</td>\n",
       "      <td>0</td>\n",
       "      <td>1</td>\n",
       "      <td>0</td>\n",
       "      <td>0</td>\n",
       "      <td>0</td>\n",
       "      <td>0</td>\n",
       "      <td>0</td>\n",
       "      <td>1</td>\n",
       "      <td>0</td>\n",
       "      <td>0</td>\n",
       "      <td>0</td>\n",
       "      <td>0</td>\n",
       "      <td>0</td>\n",
       "      <td>0</td>\n",
       "      <td>0</td>\n",
       "      <td>0</td>\n",
       "      <td>1</td>\n",
       "      <td>0</td>\n",
       "      <td>0</td>\n",
       "      <td>0</td>\n",
       "      <td>1</td>\n",
       "      <td>0</td>\n",
       "      <td>0</td>\n",
       "      <td>0</td>\n",
       "      <td>0</td>\n",
       "      <td>1</td>\n",
       "      <td>0</td>\n",
       "      <td>0</td>\n",
       "      <td>0</td>\n",
       "      <td>0</td>\n",
       "      <td>1</td>\n",
       "      <td>0</td>\n",
       "      <td>0</td>\n",
       "      <td>0</td>\n",
       "      <td>0</td>\n",
       "      <td>0</td>\n",
       "      <td>1</td>\n",
       "      <td>0</td>\n",
       "      <td>0</td>\n",
       "    </tr>\n",
       "    <tr>\n",
       "      <th>3</th>\n",
       "      <td>0001f2d0b3827bba67cdbeaa248b832d</td>\n",
       "      <td>15d900805d9d716c051c671827109f45</td>\n",
       "      <td>8bea7e8c6e4279fca6276128db89292e</td>\n",
       "      <td>3.60009E+11</td>\n",
       "      <td>40.687286</td>\n",
       "      <td>-73.988217</td>\n",
       "      <td>Brooklyn</td>\n",
       "      <td>NY</td>\n",
       "      <td>urban</td>\n",
       "      <td>New York City Dept Of Ed</td>\n",
       "      <td>Kings (Brooklyn)</td>\n",
       "      <td>Ms.</td>\n",
       "      <td>Literacy</td>\n",
       "      <td>NaN</td>\n",
       "      <td>175.33</td>\n",
       "      <td>23.0</td>\n",
       "      <td>2012-10-11</td>\n",
       "      <td>2012-12-05</td>\n",
       "      <td>55</td>\n",
       "      <td>1</td>\n",
       "      <td>1</td>\n",
       "      <td>0</td>\n",
       "      <td>0</td>\n",
       "      <td>0</td>\n",
       "      <td>1</td>\n",
       "      <td>0</td>\n",
       "      <td>0</td>\n",
       "      <td>0</td>\n",
       "      <td>0</td>\n",
       "      <td>1</td>\n",
       "      <td>0</td>\n",
       "      <td>0</td>\n",
       "      <td>0</td>\n",
       "      <td>0</td>\n",
       "      <td>1</td>\n",
       "      <td>0</td>\n",
       "      <td>0</td>\n",
       "      <td>0</td>\n",
       "      <td>0</td>\n",
       "      <td>0</td>\n",
       "      <td>0</td>\n",
       "      <td>0</td>\n",
       "      <td>0</td>\n",
       "      <td>0</td>\n",
       "      <td>0</td>\n",
       "      <td>0</td>\n",
       "      <td>0</td>\n",
       "      <td>0</td>\n",
       "      <td>1</td>\n",
       "      <td>1</td>\n",
       "      <td>0</td>\n",
       "      <td>0</td>\n",
       "      <td>0</td>\n",
       "      <td>0</td>\n",
       "      <td>0</td>\n",
       "      <td>0</td>\n",
       "      <td>1</td>\n",
       "      <td>0</td>\n",
       "      <td>0</td>\n",
       "      <td>0</td>\n",
       "      <td>0</td>\n",
       "      <td>0</td>\n",
       "      <td>0</td>\n",
       "      <td>0</td>\n",
       "      <td>1</td>\n",
       "      <td>0</td>\n",
       "      <td>1</td>\n",
       "      <td>0</td>\n",
       "      <td>0</td>\n",
       "      <td>1</td>\n",
       "      <td>0</td>\n",
       "      <td>0</td>\n",
       "      <td>0</td>\n",
       "      <td>0</td>\n",
       "      <td>0</td>\n",
       "    </tr>\n",
       "    <tr>\n",
       "      <th>4</th>\n",
       "      <td>0004536db996ba697ca72c9e058bfe69</td>\n",
       "      <td>400f8b82bb0143f6a40b217a517fe311</td>\n",
       "      <td>fbdefab6fe41e12c55886c610c110753</td>\n",
       "      <td>3.60687E+11</td>\n",
       "      <td>40.793018</td>\n",
       "      <td>-73.205635</td>\n",
       "      <td>Central Islip</td>\n",
       "      <td>NY</td>\n",
       "      <td>suburban</td>\n",
       "      <td>Central Islip Union Free SD</td>\n",
       "      <td>Suffolk</td>\n",
       "      <td>Mrs.</td>\n",
       "      <td>Literacy</td>\n",
       "      <td>Literature &amp; Writing</td>\n",
       "      <td>3591.11</td>\n",
       "      <td>150.0</td>\n",
       "      <td>2013-01-08</td>\n",
       "      <td>2013-03-25</td>\n",
       "      <td>76</td>\n",
       "      <td>0</td>\n",
       "      <td>1</td>\n",
       "      <td>0</td>\n",
       "      <td>0</td>\n",
       "      <td>1</td>\n",
       "      <td>0</td>\n",
       "      <td>0</td>\n",
       "      <td>0</td>\n",
       "      <td>0</td>\n",
       "      <td>0</td>\n",
       "      <td>1</td>\n",
       "      <td>0</td>\n",
       "      <td>0</td>\n",
       "      <td>0</td>\n",
       "      <td>0</td>\n",
       "      <td>0</td>\n",
       "      <td>0</td>\n",
       "      <td>0</td>\n",
       "      <td>1</td>\n",
       "      <td>0</td>\n",
       "      <td>0</td>\n",
       "      <td>0</td>\n",
       "      <td>0</td>\n",
       "      <td>0</td>\n",
       "      <td>0</td>\n",
       "      <td>1</td>\n",
       "      <td>0</td>\n",
       "      <td>0</td>\n",
       "      <td>0</td>\n",
       "      <td>0</td>\n",
       "      <td>0</td>\n",
       "      <td>0</td>\n",
       "      <td>0</td>\n",
       "      <td>1</td>\n",
       "      <td>0</td>\n",
       "      <td>0</td>\n",
       "      <td>0</td>\n",
       "      <td>1</td>\n",
       "      <td>0</td>\n",
       "      <td>0</td>\n",
       "      <td>0</td>\n",
       "      <td>0</td>\n",
       "      <td>0</td>\n",
       "      <td>0</td>\n",
       "      <td>0</td>\n",
       "      <td>1</td>\n",
       "      <td>0</td>\n",
       "      <td>1</td>\n",
       "      <td>0</td>\n",
       "      <td>0</td>\n",
       "      <td>0</td>\n",
       "      <td>0</td>\n",
       "      <td>0</td>\n",
       "      <td>0</td>\n",
       "      <td>1</td>\n",
       "      <td>0</td>\n",
       "    </tr>\n",
       "  </tbody>\n",
       "</table>\n",
       "</div>"
      ],
      "text/plain": [
       "                          projectid                    teacher_acctid  \\\n",
       "0  00001ccc0e81598c4bd86bacb94d7acb  96963218e74e10c3764a5cfb153e6fea   \n",
       "1  0000fa3aa8f6649abab23615b546016d  2a578595fe351e7fce057e048c409b18   \n",
       "2  000134f07d4b30140d63262c871748ff  26bd60377bdbffb53a644a16c5308e82   \n",
       "3  0001f2d0b3827bba67cdbeaa248b832d  15d900805d9d716c051c671827109f45   \n",
       "4  0004536db996ba697ca72c9e058bfe69  400f8b82bb0143f6a40b217a517fe311   \n",
       "\n",
       "                           schoolid school_ncesid  school_latitude  \\\n",
       "0  9f3f9f2c2da7edda5648ccd10554ed8c   1.70993E+11        41.807654   \n",
       "1  3432ed3d4466fac2f2ead83ab354e333   64098006751        34.296596   \n",
       "2  dc8dcb501c3b2bb0b10e9c6ee2cd8afd   62271003143        34.078625   \n",
       "3  8bea7e8c6e4279fca6276128db89292e   3.60009E+11        40.687286   \n",
       "4  fbdefab6fe41e12c55886c610c110753   3.60687E+11        40.793018   \n",
       "\n",
       "   school_longitude    school_city school_state school_metro  \\\n",
       "0        -87.673257        Chicago           IL        urban   \n",
       "1       -119.296596        Ventura           CA        urban   \n",
       "2       -118.257834    Los Angeles           CA        urban   \n",
       "3        -73.988217       Brooklyn           NY        urban   \n",
       "4        -73.205635  Central Islip           NY     suburban   \n",
       "\n",
       "                school_district     school_county teacher_prefix  \\\n",
       "0         Pershing Elem Network              Cook           Mrs.   \n",
       "1  Ventura Unif School District           Ventura           Mrs.   \n",
       "2     Los Angeles Unif Sch Dist       Los Angeles            Ms.   \n",
       "3      New York City Dept Of Ed  Kings (Brooklyn)            Ms.   \n",
       "4   Central Islip Union Free SD           Suffolk           Mrs.   \n",
       "\n",
       "  primary_focus_subject secondary_focus_subject  \\\n",
       "0           Mathematics             Visual Arts   \n",
       "1   Civics & Government    Literature & Writing   \n",
       "2              Literacy         Social Sciences   \n",
       "3              Literacy                     NaN   \n",
       "4              Literacy    Literature & Writing   \n",
       "\n",
       "   total_price_including_optional_support  students_reached date_posted  \\\n",
       "0                                 1498.61              31.0  2013-04-14   \n",
       "1                                  282.47              28.0  2012-04-07   \n",
       "2                                 1012.38              56.0  2012-01-30   \n",
       "3                                  175.33              23.0  2012-10-11   \n",
       "4                                 3591.11             150.0  2013-01-08   \n",
       "\n",
       "  datefullyfunded  time_till_funded  funded_wi_60d  school_charter_f  \\\n",
       "0      2013-05-02                18              1                 1   \n",
       "1      2012-04-18                11              1                 1   \n",
       "2      2012-04-15                76              0                 1   \n",
       "3      2012-12-05                55              1                 1   \n",
       "4      2013-03-25                76              0                 1   \n",
       "\n",
       "   school_charter_t  school_charter_nan  school_magnet_f  school_magnet_t  \\\n",
       "0                 0                   0                1                0   \n",
       "1                 0                   0                1                0   \n",
       "2                 0                   0                1                0   \n",
       "3                 0                   0                0                1   \n",
       "4                 0                   0                1                0   \n",
       "\n",
       "   school_magnet_nan  primary_focus_area_Applied Learning  \\\n",
       "0                  0                                    0   \n",
       "1                  0                                    0   \n",
       "2                  0                                    0   \n",
       "3                  0                                    0   \n",
       "4                  0                                    0   \n",
       "\n",
       "   primary_focus_area_Health & Sports  primary_focus_area_History & Civics  \\\n",
       "0                                   0                                    0   \n",
       "1                                   0                                    1   \n",
       "2                                   0                                    0   \n",
       "3                                   0                                    0   \n",
       "4                                   0                                    0   \n",
       "\n",
       "   primary_focus_area_Literacy & Language  primary_focus_area_Math & Science  \\\n",
       "0                                       0                                  1   \n",
       "1                                       0                                  0   \n",
       "2                                       1                                  0   \n",
       "3                                       1                                  0   \n",
       "4                                       1                                  0   \n",
       "\n",
       "   primary_focus_area_Music & The Arts  primary_focus_area_Special Needs  \\\n",
       "0                                    0                                 0   \n",
       "1                                    0                                 0   \n",
       "2                                    0                                 0   \n",
       "3                                    0                                 0   \n",
       "4                                    0                                 0   \n",
       "\n",
       "   primary_focus_area_nan  resource_type_Books  resource_type_Other  \\\n",
       "0                       0                    0                    0   \n",
       "1                       0                    1                    0   \n",
       "2                       0                    0                    0   \n",
       "3                       0                    1                    0   \n",
       "4                       0                    0                    0   \n",
       "\n",
       "   resource_type_Supplies  resource_type_Technology  resource_type_Trips  \\\n",
       "0                       1                         0                    0   \n",
       "1                       0                         0                    0   \n",
       "2                       0                         1                    0   \n",
       "3                       0                         0                    0   \n",
       "4                       0                         1                    0   \n",
       "\n",
       "   resource_type_Visitors  resource_type_nan  \\\n",
       "0                       0                  0   \n",
       "1                       0                  0   \n",
       "2                       0                  0   \n",
       "3                       0                  0   \n",
       "4                       0                  0   \n",
       "\n",
       "   secondary_focus_area_Applied Learning  \\\n",
       "0                                      0   \n",
       "1                                      0   \n",
       "2                                      0   \n",
       "3                                      0   \n",
       "4                                      0   \n",
       "\n",
       "   secondary_focus_area_Health & Sports  \\\n",
       "0                                     0   \n",
       "1                                     0   \n",
       "2                                     0   \n",
       "3                                     0   \n",
       "4                                     0   \n",
       "\n",
       "   secondary_focus_area_History & Civics  \\\n",
       "0                                      0   \n",
       "1                                      0   \n",
       "2                                      1   \n",
       "3                                      0   \n",
       "4                                      0   \n",
       "\n",
       "   secondary_focus_area_Literacy & Language  \\\n",
       "0                                         0   \n",
       "1                                         1   \n",
       "2                                         0   \n",
       "3                                         0   \n",
       "4                                         1   \n",
       "\n",
       "   secondary_focus_area_Math & Science  secondary_focus_area_Music & The Arts  \\\n",
       "0                                    0                                      1   \n",
       "1                                    0                                      0   \n",
       "2                                    0                                      0   \n",
       "3                                    0                                      0   \n",
       "4                                    0                                      0   \n",
       "\n",
       "   secondary_focus_area_Special Needs  secondary_focus_area_nan  \\\n",
       "0                                   0                         0   \n",
       "1                                   0                         0   \n",
       "2                                   0                         0   \n",
       "3                                   0                         1   \n",
       "4                                   0                         0   \n",
       "\n",
       "   resource_type_Books  resource_type_Other  resource_type_Supplies  \\\n",
       "0                    0                    0                       1   \n",
       "1                    1                    0                       0   \n",
       "2                    0                    0                       0   \n",
       "3                    1                    0                       0   \n",
       "4                    0                    0                       0   \n",
       "\n",
       "   resource_type_Technology  resource_type_Trips  resource_type_Visitors  \\\n",
       "0                         0                    0                       0   \n",
       "1                         0                    0                       0   \n",
       "2                         1                    0                       0   \n",
       "3                         0                    0                       0   \n",
       "4                         1                    0                       0   \n",
       "\n",
       "   resource_type_nan  poverty_level_high poverty  \\\n",
       "0                  0                           0   \n",
       "1                  0                           0   \n",
       "2                  0                           1   \n",
       "3                  0                           1   \n",
       "4                  0                           1   \n",
       "\n",
       "   poverty_level_highest poverty  poverty_level_low poverty  \\\n",
       "0                              1                          0   \n",
       "1                              1                          0   \n",
       "2                              0                          0   \n",
       "3                              0                          0   \n",
       "4                              0                          0   \n",
       "\n",
       "   poverty_level_moderate poverty  poverty_level_nan  grade_level_Grades 3-5  \\\n",
       "0                               0                  0                       0   \n",
       "1                               0                  0                       1   \n",
       "2                               0                  0                       1   \n",
       "3                               0                  0                       0   \n",
       "4                               0                  0                       0   \n",
       "\n",
       "   grade_level_Grades 6-8  grade_level_Grades 9-12  grade_level_Grades PreK-2  \\\n",
       "0                       0                        0                          1   \n",
       "1                       0                        0                          0   \n",
       "2                       0                        0                          0   \n",
       "3                       0                        0                          1   \n",
       "4                       0                        0                          1   \n",
       "\n",
       "   grade_level_nan  eligible_double_your_impact_match_f  \\\n",
       "0                0                                    1   \n",
       "1                0                                    0   \n",
       "2                0                                    1   \n",
       "3                0                                    1   \n",
       "4                0                                    1   \n",
       "\n",
       "   eligible_double_your_impact_match_t  eligible_double_your_impact_match_nan  \\\n",
       "0                                    0                                      0   \n",
       "1                                    1                                      0   \n",
       "2                                    0                                      0   \n",
       "3                                    0                                      0   \n",
       "4                                    0                                      0   \n",
       "\n",
       "   total_price_cat_<300  total_price_cat_300-600  total_price_cat_600-900  \\\n",
       "0                     0                        0                        0   \n",
       "1                     1                        0                        0   \n",
       "2                     0                        0                        0   \n",
       "3                     1                        0                        0   \n",
       "4                     0                        0                        0   \n",
       "\n",
       "   total_price_cat_900-1200  total_price_cat_>1200  total_price_cat_nan  \n",
       "0                         0                      1                    0  \n",
       "1                         0                      0                    0  \n",
       "2                         1                      0                    0  \n",
       "3                         0                      0                    0  \n",
       "4                         0                      1                    0  "
      ]
     },
     "execution_count": 10,
     "metadata": {},
     "output_type": "execute_result"
    }
   ],
   "source": [
    "# Convert selected variables to dummies\n",
    "\n",
    "cols_to_transform = ['school_charter', 'school_magnet', 'primary_focus_area', \n",
    "                     'resource_type', 'secondary_focus_area', 'resource_type', \n",
    "                     'poverty_level', 'grade_level', 'eligible_double_your_impact_match', \n",
    "                     'total_price_cat']\n",
    "dfbin = pp.convert_to_dummy(df, cols_to_transform, dummy_na=True)\n",
    "dfbin.head()"
   ]
  },
  {
   "cell_type": "markdown",
   "metadata": {},
   "source": [
    "### V. Model Buidling"
   ]
  },
  {
   "cell_type": "code",
   "execution_count": 99,
   "metadata": {},
   "outputs": [],
   "source": [
    "from sklearn.metrics import accuracy_score\n",
    "from sklearn.metrics import precision_score\n",
    "from sklearn.metrics import recall_score"
   ]
  },
  {
   "cell_type": "code",
   "execution_count": 17,
   "metadata": {},
   "outputs": [],
   "source": [
    "# select a vector of features \n",
    "feat_cols = learn.get_feature_cols(T, dfbin)\n",
    "\n",
    "# Train-test split\n",
    "x_train, x_test, y_train, y_test = learn.train_test_split(T, feat_cols, dfbin, random_state=2019)"
   ]
  },
  {
   "cell_type": "code",
   "execution_count": 36,
   "metadata": {},
   "outputs": [],
   "source": [
    "clf_knn = learn.construct_kNN()\n",
    "pred_scores = learn.fit_and_predict(clf=clf, x_train=x_train, y_train=y_train, x_test=x_test)"
   ]
  },
  {
   "cell_type": "code",
   "execution_count": 48,
   "metadata": {},
   "outputs": [],
   "source": []
  },
  {
   "cell_type": "code",
   "execution_count": 68,
   "metadata": {},
   "outputs": [],
   "source": [
    "thresholds = [x/10 for x in range(0, 11, 1)]"
   ]
  },
  {
   "cell_type": "code",
   "execution_count": 209,
   "metadata": {},
   "outputs": [],
   "source": [
    "population_percent = [x/10 for x in range(0, 11, 1)]"
   ]
  },
  {
   "cell_type": "code",
   "execution_count": 262,
   "metadata": {},
   "outputs": [],
   "source": [
    "def get_eval_metric(pred_scores, metrics, thresholds=None, population_percent=None):\n",
    "    \n",
    "    if (thresholds == None) and (population_percent == None):\n",
    "            raise Exception('ValueError: must have at least thresholds or population_percent')\n",
    "    elif population_percent:\n",
    "            # calculate thresholds based on population percentage\n",
    "            thresholds = []\n",
    "            for p in population_percent:\n",
    "                thresholds.append(np.percentile(pred_scores, (1-p)*100))\n",
    "                \n",
    "    # calcualte evaluation metrics at thresholds \n",
    "    d = {'population_percent': population_percent,'score_threshold': thresholds}\n",
    "    for m in metrics:\n",
    "        name = m.__name__[:-6]\n",
    "        scores = []\n",
    "        for k in thresholds:\n",
    "            # assign classification at threshold k\n",
    "            pred_label = [1 if x[1] > k else 0 for x in pred_scores]\n",
    "            num_pred_1 = sum(pred_label)\n",
    "            # calculate evaluation metric at threshold k\n",
    "            score_at_k =  m(pred_label, y_test)\n",
    "            scores.append(score_at_k)\n",
    "        d[name] = scores\n",
    "    results = pd.DataFrame(d)\n",
    "    return results"
   ]
  },
  {
   "cell_type": "code",
   "execution_count": 225,
   "metadata": {},
   "outputs": [
    {
     "data": {
      "text/plain": [
       "0.8"
      ]
     },
     "execution_count": 225,
     "metadata": {},
     "output_type": "execute_result"
    }
   ],
   "source": [
    "np.percentile(pred_scores[:,1], 50)"
   ]
  },
  {
   "cell_type": "code",
   "execution_count": 265,
   "metadata": {},
   "outputs": [
    {
     "ename": "TypeError",
     "evalue": "get_eval_metric() missing 1 required positional argument: 'metrics'",
     "output_type": "error",
     "traceback": [
      "\u001b[0;31m---------------------------------------------------------------------------\u001b[0m",
      "\u001b[0;31mTypeError\u001b[0m                                 Traceback (most recent call last)",
      "\u001b[0;32m<ipython-input-265-26152d41e123>\u001b[0m in \u001b[0;36m<module>\u001b[0;34m\u001b[0m\n\u001b[0;32m----> 1\u001b[0;31m \u001b[0mlearn\u001b[0m\u001b[0;34m.\u001b[0m\u001b[0mget_eval_metric\u001b[0m\u001b[0;34m(\u001b[0m\u001b[0mpred_scores\u001b[0m\u001b[0;34m,\u001b[0m \u001b[0;34m[\u001b[0m\u001b[0maccuracy_score\u001b[0m\u001b[0;34m,\u001b[0m \u001b[0mprecision_score\u001b[0m\u001b[0;34m,\u001b[0m \u001b[0mrecall_score\u001b[0m\u001b[0;34m]\u001b[0m\u001b[0;34m,\u001b[0m \u001b[0mpopulation_percent\u001b[0m\u001b[0;34m=\u001b[0m\u001b[0mpopulation_percent\u001b[0m\u001b[0;34m)\u001b[0m\u001b[0;34m\u001b[0m\u001b[0;34m\u001b[0m\u001b[0m\n\u001b[0m",
      "\u001b[0;31mTypeError\u001b[0m: get_eval_metric() missing 1 required positional argument: 'metrics'"
     ]
    }
   ],
   "source": [
    "learn.get_eval_metric(pred_scores, [accuracy_score, precision_score, recall_score], population_percent=population_percent)"
   ]
  },
  {
   "cell_type": "code",
   "execution_count": 293,
   "metadata": {},
   "outputs": [],
   "source": [
    "import pipeline as pp"
   ]
  },
  {
   "cell_type": "code",
   "execution_count": 296,
   "metadata": {},
   "outputs": [
    {
     "name": "stdout",
     "output_type": "stream",
     "text": [
      "Baseline: The true number of YES in test data is 22242/31183 (71.33%)\n",
      "\n"
     ]
    },
    {
     "data": {
      "text/html": [
       "<div>\n",
       "<style scoped>\n",
       "    .dataframe tbody tr th:only-of-type {\n",
       "        vertical-align: middle;\n",
       "    }\n",
       "\n",
       "    .dataframe tbody tr th {\n",
       "        vertical-align: top;\n",
       "    }\n",
       "\n",
       "    .dataframe thead th {\n",
       "        text-align: right;\n",
       "    }\n",
       "</style>\n",
       "<table border=\"1\" class=\"dataframe\">\n",
       "  <thead>\n",
       "    <tr style=\"text-align: right;\">\n",
       "      <th></th>\n",
       "      <th>population_percent</th>\n",
       "      <th>score_threshold</th>\n",
       "      <th>accuracy</th>\n",
       "      <th>precision</th>\n",
       "      <th>recall</th>\n",
       "    </tr>\n",
       "  </thead>\n",
       "  <tbody>\n",
       "    <tr>\n",
       "      <th>0</th>\n",
       "      <td>0.0</td>\n",
       "      <td>1.0</td>\n",
       "      <td>0.286727</td>\n",
       "      <td>0.000000</td>\n",
       "      <td>0.000000</td>\n",
       "    </tr>\n",
       "    <tr>\n",
       "      <th>1</th>\n",
       "      <td>0.1</td>\n",
       "      <td>1.0</td>\n",
       "      <td>0.286727</td>\n",
       "      <td>0.000000</td>\n",
       "      <td>0.000000</td>\n",
       "    </tr>\n",
       "    <tr>\n",
       "      <th>2</th>\n",
       "      <td>0.2</td>\n",
       "      <td>0.8</td>\n",
       "      <td>0.434435</td>\n",
       "      <td>0.266163</td>\n",
       "      <td>0.818358</td>\n",
       "    </tr>\n",
       "    <tr>\n",
       "      <th>3</th>\n",
       "      <td>0.3</td>\n",
       "      <td>0.8</td>\n",
       "      <td>0.434435</td>\n",
       "      <td>0.266163</td>\n",
       "      <td>0.818358</td>\n",
       "    </tr>\n",
       "    <tr>\n",
       "      <th>4</th>\n",
       "      <td>0.4</td>\n",
       "      <td>0.6</td>\n",
       "      <td>0.579514</td>\n",
       "      <td>0.591763</td>\n",
       "      <td>0.765500</td>\n",
       "    </tr>\n",
       "    <tr>\n",
       "      <th>5</th>\n",
       "      <td>0.5</td>\n",
       "      <td>0.5</td>\n",
       "      <td>0.668185</td>\n",
       "      <td>0.836031</td>\n",
       "      <td>0.735126</td>\n",
       "    </tr>\n",
       "    <tr>\n",
       "      <th>6</th>\n",
       "      <td>0.6</td>\n",
       "      <td>0.4</td>\n",
       "      <td>0.668185</td>\n",
       "      <td>0.836031</td>\n",
       "      <td>0.735126</td>\n",
       "    </tr>\n",
       "    <tr>\n",
       "      <th>7</th>\n",
       "      <td>0.7</td>\n",
       "      <td>0.2</td>\n",
       "      <td>0.703492</td>\n",
       "      <td>0.953556</td>\n",
       "      <td>0.720855</td>\n",
       "    </tr>\n",
       "    <tr>\n",
       "      <th>8</th>\n",
       "      <td>0.8</td>\n",
       "      <td>0.2</td>\n",
       "      <td>0.703492</td>\n",
       "      <td>0.953556</td>\n",
       "      <td>0.720855</td>\n",
       "    </tr>\n",
       "    <tr>\n",
       "      <th>9</th>\n",
       "      <td>0.9</td>\n",
       "      <td>0.0</td>\n",
       "      <td>0.712536</td>\n",
       "      <td>0.993166</td>\n",
       "      <td>0.714840</td>\n",
       "    </tr>\n",
       "    <tr>\n",
       "      <th>10</th>\n",
       "      <td>1.0</td>\n",
       "      <td>0.0</td>\n",
       "      <td>0.712536</td>\n",
       "      <td>0.993166</td>\n",
       "      <td>0.714840</td>\n",
       "    </tr>\n",
       "  </tbody>\n",
       "</table>\n",
       "</div>"
      ],
      "text/plain": [
       "    population_percent  score_threshold  accuracy  precision    recall\n",
       "0                  0.0              1.0  0.286727   0.000000  0.000000\n",
       "1                  0.1              1.0  0.286727   0.000000  0.000000\n",
       "2                  0.2              0.8  0.434435   0.266163  0.818358\n",
       "3                  0.3              0.8  0.434435   0.266163  0.818358\n",
       "4                  0.4              0.6  0.579514   0.591763  0.765500\n",
       "5                  0.5              0.5  0.668185   0.836031  0.735126\n",
       "6                  0.6              0.4  0.668185   0.836031  0.735126\n",
       "7                  0.7              0.2  0.703492   0.953556  0.720855\n",
       "8                  0.8              0.2  0.703492   0.953556  0.720855\n",
       "9                  0.9              0.0  0.712536   0.993166  0.714840\n",
       "10                 1.0              0.0  0.712536   0.993166  0.714840"
      ]
     },
     "execution_count": 296,
     "metadata": {},
     "output_type": "execute_result"
    }
   ],
   "source": [
    "pp.get_eval_metric(pred_scores, y_test, [accuracy_score, precision_score, recall_score], population_percent=population_percent)"
   ]
  },
  {
   "cell_type": "code",
   "execution_count": 195,
   "metadata": {},
   "outputs": [],
   "source": [
    "from sklearn.tree import DecisionTreeClassifier as dt\n",
    "from sklearn.neighbors import KNeighborsClassifier as knn"
   ]
  },
  {
   "cell_type": "code",
   "execution_count": 274,
   "metadata": {},
   "outputs": [],
   "source": [
    "from sklearn.model_selection import ParameterGrid"
   ]
  },
  {
   "cell_type": "code",
   "execution_count": 287,
   "metadata": {},
   "outputs": [],
   "source": [
    "pg = ParameterGrid({'n_neighbors': [5, 15, 50], 'weights': [\n",
    "                'distance', 'uniform']})"
   ]
  },
  {
   "cell_type": "code",
   "execution_count": 290,
   "metadata": {},
   "outputs": [],
   "source": [
    "for p in pg:\n",
    "    knn.set_params(**p)\n",
    "    # knn.fit()\n",
    "    # knn.pred_proba"
   ]
  },
  {
   "cell_type": "markdown",
   "metadata": {},
   "source": [
    "### VI. Model Evaluation"
   ]
  }
 ],
 "metadata": {
  "kernelspec": {
   "display_name": "mlpp_hw",
   "language": "python",
   "name": "mlpp_hw"
  },
  "language_info": {
   "codemirror_mode": {
    "name": "ipython",
    "version": 3
   },
   "file_extension": ".py",
   "mimetype": "text/x-python",
   "name": "python",
   "nbconvert_exporter": "python",
   "pygments_lexer": "ipython3",
   "version": "3.7.3"
  }
 },
 "nbformat": 4,
 "nbformat_minor": 2
}
