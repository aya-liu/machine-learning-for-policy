{
 "cells": [
  {
   "cell_type": "code",
   "execution_count": 9,
   "metadata": {},
   "outputs": [],
   "source": [
    "import numpy as np\n",
    "import pandas as pd\n",
    "import matplotlib.pyplot as plt\n",
    "\n",
    "import model\n",
    "import helpers"
   ]
  },
  {
   "cell_type": "code",
   "execution_count": 12,
   "metadata": {},
   "outputs": [
    {
     "name": "stdout",
     "output_type": "stream",
     "text": [
      "The autoreload extension is already loaded. To reload it, use:\n",
      "  %reload_ext autoreload\n"
     ]
    }
   ],
   "source": [
    "%load_ext autoreload\n",
    "%autoreload 2\n",
    "import numpy as np\n",
    "import pandas as pd\n",
    "import warnings\n",
    "import matplotlib.pyplot as plt\n",
    "from sklearn.metrics import accuracy_score\n",
    "from sklearn.metrics import precision_score\n",
    "from sklearn.metrics import recall_score\n",
    "\n",
    "warnings.filterwarnings('ignore')\n",
    "pd.options.display.max_columns = 999"
   ]
  },
  {
   "cell_type": "code",
   "execution_count": 255,
   "metadata": {},
   "outputs": [],
   "source": [
    "import pipeline as pp"
   ]
  },
  {
   "cell_type": "code",
   "execution_count": 254,
   "metadata": {},
   "outputs": [],
   "source": [
    "# Read data\n",
    "file = 'data/projects_2012_2013.csv'\n",
    "coltypes = {'school_ncesid': str}\n",
    "parse_dates = ['date_posted', 'datefullyfunded']\n",
    "df = pd.read_csv(file, dtype=coltypes, parse_dates=parse_dates)"
   ]
  },
  {
   "cell_type": "code",
   "execution_count": 256,
   "metadata": {},
   "outputs": [],
   "source": [
    "# Calculate the number of days it takes for a project to get fully funded\n",
    "df['time_till_funded'] = (df.datefullyfunded - df.date_posted).apply(lambda x: x.days)\n",
    "\n",
    "# Create target variable to identify projects fully funded within 60 days of their posting dates\n",
    "df['not_funded_wi_60d'] = np.where(df.time_till_funded > 60, 1, 0)"
   ]
  },
  {
   "cell_type": "code",
   "execution_count": 257,
   "metadata": {},
   "outputs": [],
   "source": [
    "# Set target variable to constant\n",
    "label = 'not_funded_wi_60d'\n",
    "\n",
    "# Discretize total_price_including_optional_support\n",
    "\n",
    "bins_tp = [0, 300, 600, 900, 1200, float('inf')]\n",
    "labels_tp = ['<300', '300-600', '600-900', '900-1200', '>1200']\n",
    "df['total_price_cat'] = pd.cut(df['total_price_including_optional_support'], bins=bins_tp, labels=labels_tp)\n",
    "\n",
    "# Convert selected variables to dummies\n",
    "\n",
    "cols_to_transform = ['school_charter', 'school_magnet', 'primary_focus_area', \n",
    "                     'resource_type', 'secondary_focus_area', 'resource_type', \n",
    "                     'poverty_level', 'grade_level', 'eligible_double_your_impact_match', \n",
    "                     'total_price_cat']\n",
    "dfbin = pd.get_dummies(df, dummy_na=True, columns=cols_to_transform)"
   ]
  },
  {
   "cell_type": "code",
   "execution_count": 258,
   "metadata": {
    "scrolled": true
   },
   "outputs": [],
   "source": [
    "# select a vector of features \n",
    "feat_cols = pp.get_feature_cols(label, dfbin)"
   ]
  },
  {
   "cell_type": "code",
   "execution_count": 259,
   "metadata": {},
   "outputs": [],
   "source": [
    "from sklearn.model_selection import train_test_split"
   ]
  },
  {
   "cell_type": "code",
   "execution_count": 260,
   "metadata": {},
   "outputs": [],
   "source": [
    "X_train, X_test, y_train, y_test = train_test_split(dfbin[feat_cols], df[T], test_size=0.3)"
   ]
  },
  {
   "cell_type": "markdown",
   "metadata": {},
   "source": [
    "### 1 model building starts here"
   ]
  },
  {
   "cell_type": "code",
   "execution_count": 296,
   "metadata": {},
   "outputs": [],
   "source": [
    "from sklearn.tree import DecisionTreeClassifier\n",
    "clf = DecisionTreeClassifier()"
   ]
  },
  {
   "cell_type": "code",
   "execution_count": 297,
   "metadata": {},
   "outputs": [],
   "source": [
    "params = {'max_depth': 10, 'min_samples_split': 10}"
   ]
  },
  {
   "cell_type": "code",
   "execution_count": 298,
   "metadata": {},
   "outputs": [],
   "source": [
    "m = model.Model(clf, X_train, y_train, X_test, y_test, params, N=1, iteration=1,\n",
    "                model_type=\"DT\", features=feat_cols, output_dir=\"output\", label=T, \n",
    "                ks=None, thresholds=None)"
   ]
  },
  {
   "cell_type": "code",
   "execution_count": 299,
   "metadata": {},
   "outputs": [
    {
     "name": "stdout",
     "output_type": "stream",
     "text": [
      "set params\n",
      "generated prediction scores\n",
      "stored feature importances\n"
     ]
    }
   ],
   "source": [
    "m.fit_and_predict(debug=True)"
   ]
  },
  {
   "cell_type": "code",
   "execution_count": 300,
   "metadata": {},
   "outputs": [],
   "source": [
    "m.set_ks([0.1, 0.2, 0.3, 0.4, 0.5, 0.6, 0.7, 0.8, 0.9, 1])"
   ]
  },
  {
   "cell_type": "code",
   "execution_count": 303,
   "metadata": {},
   "outputs": [],
   "source": [
    "m.populate_evalutaions()"
   ]
  },
  {
   "cell_type": "code",
   "execution_count": 308,
   "metadata": {
    "scrolled": true
   },
   "outputs": [
    {
     "data": {
      "text/html": [
       "<div>\n",
       "<style scoped>\n",
       "    .dataframe tbody tr th:only-of-type {\n",
       "        vertical-align: middle;\n",
       "    }\n",
       "\n",
       "    .dataframe tbody tr th {\n",
       "        vertical-align: top;\n",
       "    }\n",
       "\n",
       "    .dataframe thead th {\n",
       "        text-align: right;\n",
       "    }\n",
       "</style>\n",
       "<table border=\"1\" class=\"dataframe\">\n",
       "  <thead>\n",
       "    <tr style=\"text-align: right;\">\n",
       "      <th></th>\n",
       "      <th>0</th>\n",
       "      <th>1</th>\n",
       "      <th>2</th>\n",
       "      <th>3</th>\n",
       "      <th>4</th>\n",
       "      <th>5</th>\n",
       "      <th>6</th>\n",
       "      <th>7</th>\n",
       "      <th>8</th>\n",
       "      <th>9</th>\n",
       "      <th>10</th>\n",
       "    </tr>\n",
       "  </thead>\n",
       "  <tbody>\n",
       "    <tr>\n",
       "      <th>0</th>\n",
       "      <td>1-1</td>\n",
       "      <td>\"not_funded_wi_60d\"</td>\n",
       "      <td>\"DT\"</td>\n",
       "      <td>\"1\"</td>\n",
       "      <td>\"0.5790901547042812\"</td>\n",
       "      <td>\"0.1\"</td>\n",
       "      <td>\"0.32328620965590826\"</td>\n",
       "      <td>\"0.11188036554970922\"</td>\n",
       "      <td>\"0.6757261355453018\"</td>\n",
       "      <td>\"{'max_depth': 1</td>\n",
       "      <td>'min_samples_split': 10}\"</td>\n",
       "    </tr>\n",
       "    <tr>\n",
       "      <th>1</th>\n",
       "      <td>1-1</td>\n",
       "      <td>\"not_funded_wi_60d\"</td>\n",
       "      <td>\"DT\"</td>\n",
       "      <td>\"1\"</td>\n",
       "      <td>\"0.5790901547042812\"</td>\n",
       "      <td>\"0.2\"</td>\n",
       "      <td>\"0.331555081355028\"</td>\n",
       "      <td>\"0.22948398412258839\"</td>\n",
       "      <td>\"0.6436934894513643\"</td>\n",
       "      <td>\"{'max_depth': 1</td>\n",
       "      <td>'min_samples_split': 10}\"</td>\n",
       "    </tr>\n",
       "    <tr>\n",
       "      <th>2</th>\n",
       "      <td>1-1</td>\n",
       "      <td>\"not_funded_wi_60d\"</td>\n",
       "      <td>\"DT\"</td>\n",
       "      <td>\"1\"</td>\n",
       "      <td>\"0.5790901547042812\"</td>\n",
       "      <td>\"0.3\"</td>\n",
       "      <td>\"0.32844314039299366\"</td>\n",
       "      <td>\"0.34099510754177054\"</td>\n",
       "      <td>\"0.6081401861680847\"</td>\n",
       "      <td>\"{'max_depth': 1</td>\n",
       "      <td>'min_samples_split': 10}\"</td>\n",
       "    </tr>\n",
       "    <tr>\n",
       "      <th>3</th>\n",
       "      <td>1-1</td>\n",
       "      <td>\"not_funded_wi_60d\"</td>\n",
       "      <td>\"DT\"</td>\n",
       "      <td>\"1\"</td>\n",
       "      <td>\"0.6620479914543479\"</td>\n",
       "      <td>\"0.1\"</td>\n",
       "      <td>\"0.4755934915977594\"</td>\n",
       "      <td>\"0.1632186012449652\"</td>\n",
       "      <td>\"0.7037580348331689\"</td>\n",
       "      <td>\"{'max_depth': 10</td>\n",
       "      <td>'min_samples_split': 10}\"</td>\n",
       "    </tr>\n",
       "    <tr>\n",
       "      <th>4</th>\n",
       "      <td>1-1</td>\n",
       "      <td>\"not_funded_wi_60d\"</td>\n",
       "      <td>\"DT\"</td>\n",
       "      <td>\"1\"</td>\n",
       "      <td>\"0.6620479914543479\"</td>\n",
       "      <td>\"0.2\"</td>\n",
       "      <td>\"0.4531875166711123\"</td>\n",
       "      <td>\"0.31105822043207615\"</td>\n",
       "      <td>\"0.6899154508841651\"</td>\n",
       "      <td>\"{'max_depth': 10</td>\n",
       "      <td>'min_samples_split': 10}\"</td>\n",
       "    </tr>\n",
       "    <tr>\n",
       "      <th>5</th>\n",
       "      <td>1-1</td>\n",
       "      <td>\"not_funded_wi_60d\"</td>\n",
       "      <td>\"DT\"</td>\n",
       "      <td>\"1\"</td>\n",
       "      <td>\"0.6620479914543479\"</td>\n",
       "      <td>\"0.3\"</td>\n",
       "      <td>\"0.4267804747932782\"</td>\n",
       "      <td>\"0.43939948736726475\"</td>\n",
       "      <td>\"0.6647107460059211\"</td>\n",
       "      <td>\"{'max_depth': 10</td>\n",
       "      <td>'min_samples_split': 10}\"</td>\n",
       "    </tr>\n",
       "    <tr>\n",
       "      <th>6</th>\n",
       "      <td>1-1</td>\n",
       "      <td>\"not_funded_wi_60d\"</td>\n",
       "      <td>\"DT\"</td>\n",
       "      <td>\"1\"</td>\n",
       "      <td>\"0.6620479914543479\"</td>\n",
       "      <td>\"0.4\"</td>\n",
       "      <td>\"0.40588117623524705\"</td>\n",
       "      <td>\"0.5572134749176126\"</td>\n",
       "      <td>\"0.6333448910463286\"</td>\n",
       "      <td>\"{'max_depth': 10</td>\n",
       "      <td>'min_samples_split': 10}\"</td>\n",
       "    </tr>\n",
       "    <tr>\n",
       "      <th>7</th>\n",
       "      <td>1-1</td>\n",
       "      <td>\"not_funded_wi_60d\"</td>\n",
       "      <td>\"DT\"</td>\n",
       "      <td>\"1\"</td>\n",
       "      <td>\"0.6620479914543479\"</td>\n",
       "      <td>\"0.5\"</td>\n",
       "      <td>\"0.3912301290942068\"</td>\n",
       "      <td>\"0.6713658000732332\"</td>\n",
       "      <td>\"0.5998719761022058\"</td>\n",
       "      <td>\"{'max_depth': 10</td>\n",
       "      <td>'min_samples_split': 10}\"</td>\n",
       "    </tr>\n",
       "    <tr>\n",
       "      <th>8</th>\n",
       "      <td>1-1</td>\n",
       "      <td>\"not_funded_wi_60d\"</td>\n",
       "      <td>\"DT\"</td>\n",
       "      <td>\"1\"</td>\n",
       "      <td>\"0.6620479914543479\"</td>\n",
       "      <td>\"0.6\"</td>\n",
       "      <td>\"0.3721271393643032\"</td>\n",
       "      <td>\"0.7662943976565361\"</td>\n",
       "      <td>\"0.5551969701010855\"</td>\n",
       "      <td>\"{'max_depth': 10</td>\n",
       "      <td>'min_samples_split': 10}\"</td>\n",
       "    </tr>\n",
       "    <tr>\n",
       "      <th>9</th>\n",
       "      <td>1-1</td>\n",
       "      <td>\"not_funded_wi_60d\"</td>\n",
       "      <td>\"DT\"</td>\n",
       "      <td>\"1\"</td>\n",
       "      <td>\"0.6620479914543479\"</td>\n",
       "      <td>\"0.7\"</td>\n",
       "      <td>\"0.3528291103067251\"</td>\n",
       "      <td>\"0.8476748443793483\"</td>\n",
       "      <td>\"0.5026004854239458\"</td>\n",
       "      <td>\"{'max_depth': 10</td>\n",
       "      <td>'min_samples_split': 10}\"</td>\n",
       "    </tr>\n",
       "    <tr>\n",
       "      <th>10</th>\n",
       "      <td>1-1</td>\n",
       "      <td>\"not_funded_wi_60d\"</td>\n",
       "      <td>\"DT\"</td>\n",
       "      <td>\"1\"</td>\n",
       "      <td>\"0.6620479914543479\"</td>\n",
       "      <td>\"0.8\"</td>\n",
       "      <td>\"0.33326665333066613\"</td>\n",
       "      <td>\"0.9150494324423288\"</td>\n",
       "      <td>\"0.4418691489077961\"</td>\n",
       "      <td>\"{'max_depth': 10</td>\n",
       "      <td>'min_samples_split': 10}\"</td>\n",
       "    </tr>\n",
       "    <tr>\n",
       "      <th>11</th>\n",
       "      <td>1-1</td>\n",
       "      <td>\"not_funded_wi_60d\"</td>\n",
       "      <td>\"DT\"</td>\n",
       "      <td>\"1\"</td>\n",
       "      <td>\"0.6620479914543479\"</td>\n",
       "      <td>\"0.9\"</td>\n",
       "      <td>\"0.31322051981151644\"</td>\n",
       "      <td>\"0.967502746246796\"</td>\n",
       "      <td>\"0.3724428559997866\"</td>\n",
       "      <td>\"{'max_depth': 10</td>\n",
       "      <td>'min_samples_split': 10}\"</td>\n",
       "    </tr>\n",
       "    <tr>\n",
       "      <th>12</th>\n",
       "      <td>1-1</td>\n",
       "      <td>\"not_funded_wi_60d\"</td>\n",
       "      <td>\"DT\"</td>\n",
       "      <td>\"1\"</td>\n",
       "      <td>\"0.6620479914543479\"</td>\n",
       "      <td>\"1\"</td>\n",
       "      <td>\"0.29136105406342516\"</td>\n",
       "      <td>\"1.0\"</td>\n",
       "      <td>\"0.29136105406342516\"</td>\n",
       "      <td>\"{'max_depth': 10</td>\n",
       "      <td>'min_samples_split': 10}\"</td>\n",
       "    </tr>\n",
       "  </tbody>\n",
       "</table>\n",
       "</div>"
      ],
      "text/plain": [
       "     0                     1      2     3                      4       5   \\\n",
       "0   1-1   \"not_funded_wi_60d\"   \"DT\"   \"1\"   \"0.5790901547042812\"   \"0.1\"   \n",
       "1   1-1   \"not_funded_wi_60d\"   \"DT\"   \"1\"   \"0.5790901547042812\"   \"0.2\"   \n",
       "2   1-1   \"not_funded_wi_60d\"   \"DT\"   \"1\"   \"0.5790901547042812\"   \"0.3\"   \n",
       "3   1-1   \"not_funded_wi_60d\"   \"DT\"   \"1\"   \"0.6620479914543479\"   \"0.1\"   \n",
       "4   1-1   \"not_funded_wi_60d\"   \"DT\"   \"1\"   \"0.6620479914543479\"   \"0.2\"   \n",
       "5   1-1   \"not_funded_wi_60d\"   \"DT\"   \"1\"   \"0.6620479914543479\"   \"0.3\"   \n",
       "6   1-1   \"not_funded_wi_60d\"   \"DT\"   \"1\"   \"0.6620479914543479\"   \"0.4\"   \n",
       "7   1-1   \"not_funded_wi_60d\"   \"DT\"   \"1\"   \"0.6620479914543479\"   \"0.5\"   \n",
       "8   1-1   \"not_funded_wi_60d\"   \"DT\"   \"1\"   \"0.6620479914543479\"   \"0.6\"   \n",
       "9   1-1   \"not_funded_wi_60d\"   \"DT\"   \"1\"   \"0.6620479914543479\"   \"0.7\"   \n",
       "10  1-1   \"not_funded_wi_60d\"   \"DT\"   \"1\"   \"0.6620479914543479\"   \"0.8\"   \n",
       "11  1-1   \"not_funded_wi_60d\"   \"DT\"   \"1\"   \"0.6620479914543479\"   \"0.9\"   \n",
       "12  1-1   \"not_funded_wi_60d\"   \"DT\"   \"1\"   \"0.6620479914543479\"     \"1\"   \n",
       "\n",
       "                        6                       7                       8   \\\n",
       "0    \"0.32328620965590826\"   \"0.11188036554970922\"    \"0.6757261355453018\"   \n",
       "1      \"0.331555081355028\"   \"0.22948398412258839\"    \"0.6436934894513643\"   \n",
       "2    \"0.32844314039299366\"   \"0.34099510754177054\"    \"0.6081401861680847\"   \n",
       "3     \"0.4755934915977594\"    \"0.1632186012449652\"    \"0.7037580348331689\"   \n",
       "4     \"0.4531875166711123\"   \"0.31105822043207615\"    \"0.6899154508841651\"   \n",
       "5     \"0.4267804747932782\"   \"0.43939948736726475\"    \"0.6647107460059211\"   \n",
       "6    \"0.40588117623524705\"    \"0.5572134749176126\"    \"0.6333448910463286\"   \n",
       "7     \"0.3912301290942068\"    \"0.6713658000732332\"    \"0.5998719761022058\"   \n",
       "8     \"0.3721271393643032\"    \"0.7662943976565361\"    \"0.5551969701010855\"   \n",
       "9     \"0.3528291103067251\"    \"0.8476748443793483\"    \"0.5026004854239458\"   \n",
       "10   \"0.33326665333066613\"    \"0.9150494324423288\"    \"0.4418691489077961\"   \n",
       "11   \"0.31322051981151644\"     \"0.967502746246796\"    \"0.3724428559997866\"   \n",
       "12   \"0.29136105406342516\"                   \"1.0\"   \"0.29136105406342516\"   \n",
       "\n",
       "                    9                           10  \n",
       "0     \"{'max_depth': 1   'min_samples_split': 10}\"  \n",
       "1     \"{'max_depth': 1   'min_samples_split': 10}\"  \n",
       "2     \"{'max_depth': 1   'min_samples_split': 10}\"  \n",
       "3    \"{'max_depth': 10   'min_samples_split': 10}\"  \n",
       "4    \"{'max_depth': 10   'min_samples_split': 10}\"  \n",
       "5    \"{'max_depth': 10   'min_samples_split': 10}\"  \n",
       "6    \"{'max_depth': 10   'min_samples_split': 10}\"  \n",
       "7    \"{'max_depth': 10   'min_samples_split': 10}\"  \n",
       "8    \"{'max_depth': 10   'min_samples_split': 10}\"  \n",
       "9    \"{'max_depth': 10   'min_samples_split': 10}\"  \n",
       "10   \"{'max_depth': 10   'min_samples_split': 10}\"  \n",
       "11   \"{'max_depth': 10   'min_samples_split': 10}\"  \n",
       "12   \"{'max_depth': 10   'min_samples_split': 10}\"  "
      ]
     },
     "execution_count": 308,
     "metadata": {},
     "output_type": "execute_result"
    }
   ],
   "source": [
    "pd.read_csv('output/evalutaions.csv', header=None)"
   ]
  },
  {
   "cell_type": "code",
   "execution_count": 174,
   "metadata": {},
   "outputs": [],
   "source": [
    "#m.clear_metrics(filename_to_remove='output/evalutaions.csv')"
   ]
  },
  {
   "cell_type": "code",
   "execution_count": 309,
   "metadata": {},
   "outputs": [
    {
     "data": {
      "image/png": "[encoded data removed]",
      "text/plain": [
       "<Figure size 432x288 with 1 Axes>"
      ]
     },
     "metadata": {
      "needs_background": "light"
     },
     "output_type": "display_data"
    }
   ],
   "source": [
    "m.plot_roc()"
   ]
  },
  {
   "cell_type": "code",
   "execution_count": 310,
   "metadata": {},
   "outputs": [
    {
     "data": {
      "text/plain": [
       "<Figure size 432x288 with 0 Axes>"
      ]
     },
     "metadata": {},
     "output_type": "display_data"
    },
    {
     "data": {
      "image/png": "[encoded data removed]",
      "text/plain": [
       "<Figure size 432x288 with 2 Axes>"
      ]
     },
     "metadata": {
      "needs_background": "light"
     },
     "output_type": "display_data"
    }
   ],
   "source": [
    "fig = m.plot_precision_recall_curve(output_type='save')"
   ]
  },
  {
   "cell_type": "code",
   "execution_count": null,
   "metadata": {},
   "outputs": [],
   "source": [
    "pl"
   ]
  }
 ],
 "metadata": {
  "kernelspec": {
   "display_name": "mlpp",
   "language": "python",
   "name": "other-env"
  },
  "language_info": {
   "codemirror_mode": {
    "name": "ipython",
    "version": 3
   },
   "file_extension": ".py",
   "mimetype": "text/x-python",
   "name": "python",
   "nbconvert_exporter": "python",
   "pygments_lexer": "ipython3",
   "version": "3.7.3"
  }
 },
 "nbformat": 4,
 "nbformat_minor": 2
}
