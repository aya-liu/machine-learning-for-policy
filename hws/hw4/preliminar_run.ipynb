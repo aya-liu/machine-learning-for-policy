{
 "cells": [
  {
   "cell_type": "code",
   "execution_count": 1,
   "metadata": {},
   "outputs": [],
   "source": [
    "%load_ext autoreload\n",
    "%autoreload 2\n",
    "import numpy as np\n",
    "import pandas as pd\n",
    "import warnings\n",
    "from dateutil import parser\n",
    "\n",
    "import pipeline as pp\n",
    "\n",
    "warnings.filterwarnings('ignore')\n",
    "pd.options.display.max_columns = 999"
   ]
  },
  {
   "cell_type": "code",
   "execution_count": 2,
   "metadata": {},
   "outputs": [],
   "source": [
    "# Read data\n",
    "file = 'data/projects_2012_2013.csv'\n",
    "coltypes = {'school_ncesid': str}\n",
    "parse_dates = ['date_posted', 'datefullyfunded']\n",
    "df = pp.read_csv(file, coltypes=coltypes, parse_dates=parse_dates)"
   ]
  },
  {
   "cell_type": "code",
   "execution_count": 3,
   "metadata": {},
   "outputs": [],
   "source": [
    "# Data preparation\n",
    "\n",
    "## Generate outcome variable\n",
    "\n",
    "# Calculate the number of days it takes for a project to get fully funded\n",
    "df['time_till_funded'] = (df.datefullyfunded - df.date_posted).apply(lambda x: x.days)\n",
    "# Create target variable to identify projects fully funded within 60 days of their posting dates\n",
    "df['not_funded_wi_60d'] = np.where(df.time_till_funded > 60, 1, 0)"
   ]
  },
  {
   "cell_type": "code",
   "execution_count": 8,
   "metadata": {},
   "outputs": [],
   "source": [
    "# Construct pipeline\n",
    "pipeline = pp.Pipeline()"
   ]
  },
  {
   "cell_type": "code",
   "execution_count": 9,
   "metadata": {},
   "outputs": [],
   "source": [
    "# Set pipeline parameters\n",
    "\n",
    "label = 'not_funded_wi_60d'\n",
    "predictor_sets = [['school_city', 'school_state',\n",
    "       'school_metro', 'school_district', 'school_county', 'school_charter',\n",
    "       'school_magnet', 'teacher_prefix', 'primary_focus_subject',\n",
    "       'primary_focus_area', 'secondary_focus_subject', 'secondary_focus_area',\n",
    "       'resource_type', 'poverty_level', 'grade_level',\n",
    "       'total_price_including_optional_support', 'students_reached',\n",
    "       'eligible_double_your_impact_match']]\n",
    "time_col = 'date_posted'\n",
    "start = parser.parse('2012-01-01')\n",
    "end = parser.parse('2013-12-31')\n",
    "test_window_months = 6\n",
    "outcome_lag_days = 60\n",
    "output_dir = 'output'\n",
    "output_filename = 'evaluations.csv'\n",
    "grid_size='test'"
   ]
  },
  {
   "cell_type": "code",
   "execution_count": null,
   "metadata": {
    "scrolled": true
   },
   "outputs": [],
   "source": [
    "pipeline.run(df, time_col, predictor_sets, label, start, end, test_window_months, \n",
    "            outcome_lag_days, output_dir, output_filename, grid_size='small', thresholds=[], \n",
    "            ks=list(np.arange(0, 1, 0.1)), save_output=True, debug=True)"
   ]
  }
 ],
 "metadata": {
  "kernelspec": {
   "display_name": "mlpp",
   "language": "python",
   "name": "other-env"
  },
  "language_info": {
   "codemirror_mode": {
    "name": "ipython",
    "version": 3
   },
   "file_extension": ".py",
   "mimetype": "text/x-python",
   "name": "python",
   "nbconvert_exporter": "python",
   "pygments_lexer": "ipython3",
   "version": "3.7.3"
  }
 },
 "nbformat": 4,
 "nbformat_minor": 2
}
